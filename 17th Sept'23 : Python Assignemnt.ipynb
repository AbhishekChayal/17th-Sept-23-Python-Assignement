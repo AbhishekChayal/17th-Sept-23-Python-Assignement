{
 "cells": [
  {
   "cell_type": "markdown",
   "metadata": {},
   "source": [
    "For Loop :-"
   ]
  },
  {
   "cell_type": "markdown",
   "metadata": {},
   "source": [
    "1. Write a Python program to print numbers from 1 to 10 using a for loop.\n"
   ]
  },
  {
   "cell_type": "code",
   "execution_count": 1,
   "metadata": {},
   "outputs": [
    {
     "name": "stdout",
     "output_type": "stream",
     "text": [
      "1\n",
      "2\n",
      "3\n",
      "4\n",
      "5\n",
      "6\n",
      "7\n",
      "8\n",
      "9\n",
      "10\n"
     ]
    }
   ],
   "source": [
    "def print_numbers():\n",
    "    for i in range(1, 11):\n",
    "        print(i)\n",
    "\n",
    "if __name__ == \"__main__\":\n",
    "    print_numbers()\n"
   ]
  },
  {
   "cell_type": "markdown",
   "metadata": {},
   "source": [
    "2. Explain the difference between a for loop and a while loop in Python."
   ]
  },
  {
   "cell_type": "markdown",
   "metadata": {},
   "source": [
    "(A) For Loop\n",
    "- A for loop in Python is typically used when you want to iterate over a sequence (such as a list, tuple, dictionary, set, or string) or other iterable objects. The for loop iterates over each element in the sequence, in order.\n",
    "> When to Use:\n",
    "(1) When you have a known number of iterations.\n",
    "(2) When you are iterating over items in a collection or sequence.\n",
    "\n",
    "(B) While Loop\n",
    "A while loop in Python continues to execute as long as a given condition is True. The condition is checked before the loop body is executed. If the condition is initially False, the loop body will not execute at all.\n",
    "> When to Use:\n",
    "(1)When the number of iterations is not known beforehand.\n",
    "(2)When the loop needs to continue until a certain condition is met.\n",
    "\n",
    "(C) Key Differences:\n",
    "(1)Iteration Control:\n",
    "- For Loop: Iterates over a sequence of elements, and the number of iterations is determined by the length of the sequence.\n",
    "- While Loop: Continues to execute as long as the condition is True. The number of iterations is determined by the condition.\n",
    "\n",
    "(2)Common Use Cases:\n",
    "- For Loop: Often used for iterating through elements in a collection (like lists, strings, or ranges).\n",
    "- While Loop: Often used when the iteration needs to continue until a specific condition changes, which might not correspond to the length of a sequence.\n",
    "\n",
    "(3) Readability and Simplicity:\n",
    "- For Loop: Generally more readable and simpler when iterating over elements in a sequence.\n",
    "- While Loop: Can be less readable if the condition is complex or if the loop body contains many changes to the condition variable."
   ]
  },
  {
   "cell_type": "markdown",
   "metadata": {},
   "source": [
    "3. Write a Python program to calculate the sum of all numbers from 1 to 100 using a for loop."
   ]
  },
  {
   "cell_type": "code",
   "execution_count": 2,
   "metadata": {},
   "outputs": [
    {
     "name": "stdout",
     "output_type": "stream",
     "text": [
      "The sum of numbers from 1 to 100 is: 5050\n"
     ]
    }
   ],
   "source": [
    "sum = 0\n",
    "for i in range(1, 101):\n",
    "  sum += i\n",
    "\n",
    "print(f\"The sum of numbers from 1 to 100 is: {sum}\")"
   ]
  },
  {
   "cell_type": "markdown",
   "metadata": {},
   "source": [
    "4. How do you iterate through a list using a for loop in Python?"
   ]
  },
  {
   "cell_type": "markdown",
   "metadata": {},
   "source": [
    "1. Iterating over the elements directly:\n",
    "This approach uses the for loop to iterate directly over the elements in the list. \n",
    "2. Iterating using range and index:\n",
    "This approach uses the range function to iterate through the indexes of the list and then accesses the elements using those indexes."
   ]
  },
  {
   "cell_type": "markdown",
   "metadata": {},
   "source": [
    "5. Write a Python program to find the product of all elements in a list using a for loop.\n"
   ]
  },
  {
   "cell_type": "code",
   "execution_count": 5,
   "metadata": {},
   "outputs": [
    {
     "name": "stdout",
     "output_type": "stream",
     "text": [
      "The product of elements in the list is: 48\n"
     ]
    }
   ],
   "source": [
    "def product_of_list(numbers):\n",
    "    \"\"\"\n",
    "    Calculates the product of all elements in a list.\n",
    "\n",
    "    Args:\n",
    "        numbers: A list of numbers.\n",
    "\n",
    "    Returns:\n",
    "        The product of all elements in the list.\n",
    "    \"\"\"\n",
    "    product = 1\n",
    "    for num in numbers:\n",
    "        product *= num\n",
    "    return product\n",
    "\n",
    "# Example usage\n",
    "my_list = [2, 4, 6]\n",
    "result = product_of_list(my_list)\n",
    "print(f\"The product of elements in the list is: {result}\")\n"
   ]
  },
  {
   "cell_type": "markdown",
   "metadata": {},
   "source": [
    "6. Create a Python program that prints all even numbers from 1 to 20 using a for loop.\n"
   ]
  },
  {
   "cell_type": "code",
   "execution_count": 8,
   "metadata": {},
   "outputs": [
    {
     "name": "stdout",
     "output_type": "stream",
     "text": [
      "2\n",
      "4\n",
      "6\n",
      "8\n",
      "10\n",
      "12\n",
      "14\n",
      "16\n",
      "18\n",
      "20\n"
     ]
    }
   ],
   "source": [
    "for num in range(1, 21):\n",
    "  if num % 2 == 0:\n",
    "    print(num)"
   ]
  },
  {
   "cell_type": "markdown",
   "metadata": {},
   "source": [
    "7. Write a Python program that calculates the factorial of a number using a for loop."
   ]
  },
  {
   "cell_type": "code",
   "execution_count": 9,
   "metadata": {},
   "outputs": [
    {
     "name": "stdout",
     "output_type": "stream",
     "text": [
      "The factorial of 6 is: 720\n"
     ]
    }
   ],
   "source": [
    "def factorial(n):\n",
    "  \"\"\"\n",
    "  This function calculates the factorial of a non-negative integer.\n",
    "\n",
    "  Args:\n",
    "      n: The non-negative integer for which to calculate the factorial.\n",
    "\n",
    "  Returns:\n",
    "      The factorial of n.\n",
    "\n",
    "  Raises:\n",
    "      ValueError: If n is negative.\n",
    "  \"\"\"\n",
    "  if n < 0:\n",
    "    raise ValueError(\"Factorial is not defined for negative numbers\")\n",
    "  \n",
    "  product = 1\n",
    "  for i in range(1, n + 1):\n",
    "    product *= i\n",
    "  return product\n",
    "\n",
    "# Example usage\n",
    "number = 6\n",
    "result = factorial(number)\n",
    "print(f\"The factorial of {number} is: {result}\")\n"
   ]
  },
  {
   "cell_type": "markdown",
   "metadata": {},
   "source": [
    "8. How can you iterate through the characters of a string using a for loop in Python?\n"
   ]
  },
  {
   "cell_type": "markdown",
   "metadata": {},
   "source": [
    "In Python, iterating through the characters of a string is straightforward using a for loop. Strings are inherently iterable objects, meaning you can directly loop through their characters. \n",
    "\n",
    "Here's how:\n",
    "\n",
    "my_string = \"Hello, world!\"\n",
    "\n",
    "for char in my_string:\n",
    "  print(char)\n",
    "\n",
    "Explanation:\n",
    "(1) We define a string variable my_string.\n",
    "(2) The for loop iterates over each character in my_string. The variable char takes on the value of each character during each iteration.\n",
    "(3) Inside the loop, the indented block of code (here, the print(char) statement) is executed for each character. In this case, it prints each character of the string on a new line.\n",
    " This approach is concise and efficient for processing individual characters within a string."
   ]
  },
  {
   "cell_type": "markdown",
   "metadata": {},
   "source": [
    "9. Write a Python program to find the largest number in a list using a for loop.\n"
   ]
  },
  {
   "cell_type": "code",
   "execution_count": 10,
   "metadata": {},
   "outputs": [
    {
     "name": "stdout",
     "output_type": "stream",
     "text": [
      "The largest number in the list is: 99\n"
     ]
    }
   ],
   "source": [
    "def find_largest(numbers):\n",
    "  \"\"\"\n",
    "  This function finds the largest number in a list.\n",
    "\n",
    "  Args:\n",
    "      numbers: A list of numbers.\n",
    "\n",
    "  Returns:\n",
    "      The largest number in the list.\n",
    "\n",
    "  Raises:\n",
    "      ValueError: If the list is empty.\n",
    "  \"\"\"\n",
    "  if not numbers:\n",
    "    raise ValueError(\"List cannot be empty\")\n",
    "  largest = numbers[0]\n",
    "  for num in numbers:\n",
    "    if num > largest:\n",
    "      largest = num\n",
    "  return largest\n",
    "\n",
    "my_list = [10,99, 2, 7, 18, 4]\n",
    "result = find_largest(my_list)\n",
    "print(f\"The largest number in the list is: {result}\")\n"
   ]
  },
  {
   "cell_type": "markdown",
   "metadata": {},
   "source": [
    "10. Create a Python program that prints the Fibonacci sequence up to a specified limit using a for loop."
   ]
  },
  {
   "cell_type": "code",
   "execution_count": 12,
   "metadata": {},
   "outputs": [
    {
     "name": "stdout",
     "output_type": "stream",
     "text": [
      "0 1 1 2 3 5 8 13 21 34 "
     ]
    }
   ],
   "source": [
    "def fibonacci(limit):\n",
    "  \"\"\"\n",
    "  This function prints the Fibonacci sequence up to a specified limit.\n",
    "\n",
    "  Args:\n",
    "      limit: The maximum value in the Fibonacci sequence to print.\n",
    "  \"\"\"\n",
    "  if limit <= 0:\n",
    "    print(\"Limit must be a positive integer.\")\n",
    "    return\n",
    "\n",
    "  a, b = 0, 1\n",
    "  while a < limit:\n",
    "    print(a, end=\" \")\n",
    "    a, b = b, a + b\n",
    "\n",
    "# Example usage\n",
    "limit = 40\n",
    "fibonacci(limit)"
   ]
  },
  {
   "cell_type": "markdown",
   "metadata": {},
   "source": [
    "11. Write a Python program to count the number of vowels in a given string using a for loop.\n"
   ]
  },
  {
   "cell_type": "code",
   "execution_count": 13,
   "metadata": {},
   "outputs": [
    {
     "name": "stdout",
     "output_type": "stream",
     "text": [
      "Number of vowels: 3\n"
     ]
    }
   ],
   "source": [
    "def count_vowels(input_string):\n",
    "    vowels = \"aeiouAEIOU\" \n",
    "    count = 0 \n",
    "   \n",
    "    for char in input_string:\n",
    "        if char in vowels:  \n",
    "            count += 1  \n",
    "    return count\n",
    "\n",
    "input_string = input(\"Enter a string: \")\n",
    "vowel_count = count_vowels(input_string)\n",
    "print(\"Number of vowels:\", vowel_count)\n"
   ]
  },
  {
   "cell_type": "markdown",
   "metadata": {},
   "source": [
    "12. Create a Python program that generates a multiplication table for a given number using a for loop.\n"
   ]
  },
  {
   "cell_type": "code",
   "execution_count": 14,
   "metadata": {},
   "outputs": [
    {
     "name": "stdout",
     "output_type": "stream",
     "text": [
      "Multiplication table for 2 up to 5:\n",
      "2 x 1 = 2\n",
      "2 x 2 = 4\n",
      "2 x 3 = 6\n",
      "2 x 4 = 8\n",
      "2 x 5 = 10\n"
     ]
    }
   ],
   "source": [
    "def multiplication_table(number, up_to=10):\n",
    "    print(f\"Multiplication table for {number} up to {up_to}:\")\n",
    "    for i in range(1, up_to + 1):\n",
    "        result = number * i\n",
    "        print(f\"{number} x {i} = {result}\")\n",
    "\n",
    "# Example usage\n",
    "number = int(input(\"Enter a number: \"))\n",
    "up_to = int(input(\"Enter the limit for the multiplication table: \"))\n",
    "multiplication_table(number, up_to)\n"
   ]
  },
  {
   "cell_type": "markdown",
   "metadata": {},
   "source": [
    "13. Write a Python program to reverse a list using a for loop.\n"
   ]
  },
  {
   "cell_type": "code",
   "execution_count": 16,
   "metadata": {},
   "outputs": [
    {
     "name": "stdout",
     "output_type": "stream",
     "text": [
      "Original list: [1, 2, 3, 4, 5]\n",
      "Reversed list: [5, 4, 3, 2, 1]\n"
     ]
    }
   ],
   "source": [
    "def reverse_list(input_list):\n",
    "    reversed_list = [] \n",
    "\n",
    "    for i in range(len(input_list) - 1, -1, -1):\n",
    "        reversed_list.append(input_list[i])\n",
    "    \n",
    "    return reversed_list\n",
    "input_list = [1, 2, 3, 4, 5]\n",
    "print(\"Original list:\", input_list)\n",
    "reversed_list = reverse_list(input_list)\n",
    "print(\"Reversed list:\", reversed_list)"
   ]
  },
  {
   "cell_type": "markdown",
   "metadata": {},
   "source": [
    "14. Write a Python program to find the common elements between two lists using a for loop."
   ]
  },
  {
   "cell_type": "code",
   "execution_count": 17,
   "metadata": {},
   "outputs": [
    {
     "name": "stdout",
     "output_type": "stream",
     "text": [
      "Common elements: [4, 5]\n"
     ]
    }
   ],
   "source": [
    "def find_common_elements(list1, list2):\n",
    "    common_elements = []\n",
    "    \n",
    "    for element in list1:\n",
    "        if element in list2 and element not in common_elements:\n",
    "            common_elements.append(element)\n",
    "    \n",
    "    return common_elements\n",
    "\n",
    "list1 = [1, 2, 3, 4, 5]\n",
    "list2 = [4, 5, 6, 7, 8]\n",
    "common_elements = find_common_elements(list1, list2)\n",
    "print(\"Common elements:\", common_elements)\n"
   ]
  },
  {
   "cell_type": "markdown",
   "metadata": {},
   "source": [
    "15. Explain how to use a for loop to iterate through the keys and values of a dictionary in Python."
   ]
  },
  {
   "cell_type": "markdown",
   "metadata": {},
   "source": [
    "There are three main ways to iterate through the keys and values of a dictionary in Python using for loops:\n",
    "1. Looping directly over the dictionary:\n",
    "This approach iterates through the dictionary itself. Python provides a built-in way to iterate over dictionaries, and in most cases, this is the recommended method. Here's the syntax:\n",
    "Python\n",
    "for key in my_dict:\n",
    "  value = my_dict[key]\n",
    "  print(f\"Key: {key}, Value: {value}\")\n",
    "\n",
    "2. Looping over keys using the keys() method:\n",
    "This approach uses the keys() method of the dictionary to get a view of all the keys. Then, you can iterate through this view object using a for loop. Here's the syntax:\n",
    "Python\n",
    "for key in my_dict.keys():\n",
    "  value = my_dict[key]\n",
    "  print(f\"Key: {key}, Value: {value}\")\n",
    "\n",
    "3. Looping over key-value pairs using the items() method:\n",
    "This approach uses the items() method of the dictionary to get a view of all key-value pairs as tuples. Then, you can iterate through this view object using a for loop. Here's the syntax:\n",
    "Python\n",
    "for key, value in my_dict.items():\n",
    "  print(f\"Key: {key}, Value: {value}\")\n",
    "\n",
    "> Choosing the right approach:\n",
    "- If you only need to process the keys and their corresponding values, looping directly over the dictionary (for key in my_dict) is the most concise and efficient way.\n",
    "- If you specifically need to modify the dictionary while iterating (which is generally not recommended), using keys() might be necessary. However, be cautious about modifying the dictionary while iterating over its keys.\n",
    "- The items() method provides a way to directly access both key and value in a single loop iteration, making it convenient for processing key-value pairs together."
   ]
  },
  {
   "cell_type": "markdown",
   "metadata": {},
   "source": [
    "16. Write a Python program to find the GCD (Greatest Common Divisor) of two numbers using a for loop."
   ]
  },
  {
   "cell_type": "code",
   "execution_count": 18,
   "metadata": {},
   "outputs": [
    {
     "name": "stdout",
     "output_type": "stream",
     "text": [
      "The GCD of 25 and 108 is: 1\n"
     ]
    }
   ],
   "source": [
    "def find_gcd(num1, num2):\n",
    "    if num1 < num2:\n",
    "        smaller = num1\n",
    "    else:\n",
    "        smaller = num2\n",
    "\n",
    "    gcd = 1\n",
    "\n",
    "    for i in range(1, smaller + 1):\n",
    "        \n",
    "        if num1 % i == 0 and num2 % i == 0:\n",
    "            gcd = i\n",
    "    \n",
    "    return gcd\n",
    "\n",
    "num1 = int(input(\"Enter the first number: \"))\n",
    "num2 = int(input(\"Enter the second number: \"))\n",
    "gcd = find_gcd(num1, num2)\n",
    "print(f\"The GCD of {num1} and {num2} is: {gcd}\")\n"
   ]
  },
  {
   "cell_type": "markdown",
   "metadata": {},
   "source": [
    "17. Create a Python program that checks if a string is a palindrome using a for loop.\n"
   ]
  },
  {
   "cell_type": "code",
   "execution_count": 19,
   "metadata": {},
   "outputs": [
    {
     "name": "stdout",
     "output_type": "stream",
     "text": [
      "'level' is a palindrome.\n"
     ]
    }
   ],
   "source": [
    "def is_palindrome(s):\n",
    "    s = s.replace(\" \", \"\").lower()\n",
    "    \n",
    "    length = len(s)\n",
    "    for i in range(length // 2):\n",
    "        if s[i] != s[length - i - 1]:\n",
    "            return False\n",
    "    \n",
    "    return True\n",
    "\n",
    "input_string = input(\"Enter a string: \")\n",
    "if is_palindrome(input_string):\n",
    "    print(f\"'{input_string}' is a palindrome.\")\n",
    "else:\n",
    "    print(f\"'{input_string}' is not a palindrome.\")\n"
   ]
  },
  {
   "cell_type": "markdown",
   "metadata": {},
   "source": [
    "18. Write a Python program to remove duplicates from a list using a for loop.\n"
   ]
  },
  {
   "cell_type": "code",
   "execution_count": 20,
   "metadata": {},
   "outputs": [
    {
     "name": "stdout",
     "output_type": "stream",
     "text": [
      "Original list: [1, 2, 2, 3, 4, 4, 5, 6, 6, 7]\n",
      "List after removing duplicates: [1, 2, 3, 4, 5, 6, 7]\n"
     ]
    }
   ],
   "source": [
    "def remove_duplicates(input_list):\n",
    "    unique_elements = [] \n",
    "    \n",
    "    for element in input_list:\n",
    "        \n",
    "        if element not in unique_elements:\n",
    "            unique_elements.append(element)\n",
    "    \n",
    "    return unique_elements\n",
    "\n",
    "input_list = [1, 2, 2, 3, 4, 4, 5, 6, 6, 7]\n",
    "print(\"Original list:\", input_list)\n",
    "unique_list = remove_duplicates(input_list)\n",
    "print(\"List after removing duplicates:\", unique_list)\n"
   ]
  },
  {
   "cell_type": "markdown",
   "metadata": {},
   "source": [
    "19. Create a Python program that counts the number of words in a sentence using a for loop.\n"
   ]
  },
  {
   "cell_type": "code",
   "execution_count": 21,
   "metadata": {},
   "outputs": [
    {
     "name": "stdout",
     "output_type": "stream",
     "text": [
      "Number of words in the sentence: 7\n"
     ]
    }
   ],
   "source": [
    "def count_words(sentence):\n",
    "    count = 0  \n",
    "    in_word = False \n",
    "    for char in sentence:\n",
    "        if char.isalpha():  \n",
    "            if not in_word: \n",
    "                count += 1\n",
    "                in_word = True\n",
    "        else:\n",
    "            in_word = False  \n",
    "    \n",
    "    return count\n",
    "\n",
    "sentence = input(\"Enter a sentence: \")\n",
    "word_count = count_words(sentence)\n",
    "print(\"Number of words in the sentence:\", word_count)\n"
   ]
  },
  {
   "cell_type": "markdown",
   "metadata": {},
   "source": [
    "20. Write a Python program to find the sum of all odd numbers from 1 to 50 using a for loop.\n"
   ]
  },
  {
   "cell_type": "code",
   "execution_count": 22,
   "metadata": {},
   "outputs": [
    {
     "name": "stdout",
     "output_type": "stream",
     "text": [
      "The sum of all odd numbers from 1 to 50 is: 625\n"
     ]
    }
   ],
   "source": [
    "def sum_of_odd_numbers():\n",
    "    total = 0 \n",
    "\n",
    "    for number in range(1, 51):\n",
    "        if number % 2 != 0:  \n",
    "            total += number  \n",
    "    \n",
    "    return total\n",
    "\n",
    "sum_odd = sum_of_odd_numbers()\n",
    "print(\"The sum of all odd numbers from 1 to 50 is:\", sum_odd)\n"
   ]
  },
  {
   "cell_type": "markdown",
   "metadata": {},
   "source": [
    "21. Write a Python program that checks if a given year is a leap year using a for loop.\n"
   ]
  },
  {
   "cell_type": "code",
   "execution_count": 23,
   "metadata": {},
   "outputs": [
    {
     "name": "stdout",
     "output_type": "stream",
     "text": [
      "2000 is a leap year.\n",
      "2001 is not a leap year.\n",
      "2004 is a leap year.\n",
      "1900 is not a leap year.\n",
      "2024 is a leap year.\n"
     ]
    }
   ],
   "source": [
    "def is_leap_year(year):\n",
    "    \n",
    "    if (year % 4 == 0):\n",
    "        if (year % 100 == 0):\n",
    "            if (year % 400 == 0):\n",
    "                return True\n",
    "            else:\n",
    "                return False\n",
    "        else:\n",
    "            return True\n",
    "    else:\n",
    "        return False\n",
    "\n",
    "def check_leap_years(years):\n",
    "    for year in years:\n",
    "        if is_leap_year(year):\n",
    "            print(f\"{year} is a leap year.\")\n",
    "        else:\n",
    "            print(f\"{year} is not a leap year.\")\n",
    "\n",
    "\n",
    "years = [2000, 2001, 2004, 1900, 2024]\n",
    "check_leap_years(years)\n"
   ]
  },
  {
   "cell_type": "markdown",
   "metadata": {},
   "source": [
    "22. Create a Python program that calculates the square root of a number using a for loop."
   ]
  },
  {
   "cell_type": "code",
   "execution_count": 24,
   "metadata": {},
   "outputs": [
    {
     "name": "stdout",
     "output_type": "stream",
     "text": [
      "The approximate square root of 44.0 is: 6.6332495807108\n"
     ]
    }
   ],
   "source": [
    "def square_root(number, iterations=10):\n",
    "    # Initial guess for the square root\n",
    "    guess = number / 2.0\n",
    "    \n",
    "    # Iterate to improve the guess\n",
    "    for i in range(iterations):\n",
    "        guess = (guess + number / guess) / 2.0\n",
    "        \n",
    "    return guess\n",
    "\n",
    "# Example usage\n",
    "number = float(input(\"Enter a number to find the square root: \"))\n",
    "sqrt = square_root(number)\n",
    "print(f\"The approximate square root of {number} is: {sqrt}\")"
   ]
  },
  {
   "cell_type": "markdown",
   "metadata": {},
   "source": [
    "23. Write a Python program to find the LCM (Least Common Multiple) of two numbers using a for loop."
   ]
  },
  {
   "cell_type": "code",
   "execution_count": 25,
   "metadata": {},
   "outputs": [
    {
     "name": "stdout",
     "output_type": "stream",
     "text": [
      "The LCM of 52 and 90 is: 2340\n"
     ]
    }
   ],
   "source": [
    "def find_lcm(num1, num2):\n",
    "    if num1 > num2:\n",
    "        greater = num1\n",
    "    else:\n",
    "        greater = num2\n",
    "\n",
    "    while True:\n",
    "        if greater % num1 == 0 and greater % num2 == 0:\n",
    "            lcm = greater\n",
    "            break\n",
    "        greater += 1\n",
    "\n",
    "    return lcm\n",
    "\n",
    "num1 = int(input(\"Enter the first number: \"))\n",
    "num2 = int(input(\"Enter the second number: \"))\n",
    "lcm = find_lcm(num1, num2)\n",
    "print(f\"The LCM of {num1} and {num2} is: {lcm}\")\n"
   ]
  },
  {
   "cell_type": "markdown",
   "metadata": {},
   "source": [
    "If else :"
   ]
  },
  {
   "cell_type": "markdown",
   "metadata": {},
   "source": [
    "1. Write a Python program to check if a number is positive, negative, or zero using an if-else statement."
   ]
  },
  {
   "cell_type": "code",
   "execution_count": 26,
   "metadata": {},
   "outputs": [
    {
     "name": "stdout",
     "output_type": "stream",
     "text": [
      "The number is positive.\n"
     ]
    }
   ],
   "source": [
    "def check_number(num):\n",
    "    if num > 0:\n",
    "        return \"The number is positive.\"\n",
    "    elif num < 0:\n",
    "        return \"The number is negative.\"\n",
    "    else:\n",
    "        return \"The number is zero.\"\n",
    "\n",
    "# Example usage\n",
    "number = float(input(\"Enter a number: \"))\n",
    "result = check_number(number)\n",
    "print(result)\n"
   ]
  },
  {
   "cell_type": "markdown",
   "metadata": {},
   "source": [
    "2. Create a Python program that checks if a given number is even or odd using an if-else statement.\n"
   ]
  },
  {
   "cell_type": "code",
   "execution_count": 27,
   "metadata": {},
   "outputs": [
    {
     "name": "stdout",
     "output_type": "stream",
     "text": [
      "The number is odd.\n"
     ]
    }
   ],
   "source": [
    "def check_even_odd(num):\n",
    "    if num % 2 == 0:\n",
    "        return \"The number is even.\"\n",
    "    else:\n",
    "        return \"The number is odd.\"\n",
    "\n",
    "number = int(input(\"Enter a number: \"))\n",
    "result = check_even_odd(number)\n",
    "print(result)"
   ]
  },
  {
   "cell_type": "markdown",
   "metadata": {},
   "source": [
    "3. How can you use nested if-else statements in Python, and provide an example?"
   ]
  },
  {
   "cell_type": "markdown",
   "metadata": {},
   "source": [
    "Nested if-else statements in Python allow you to add multiple layers of decision-making within your code. This means you can check additional conditions if a certain condition is met, or perform different actions based on those conditions. Here's an explanation followed by an example:\n",
    "\n",
    "Explanation:\n",
    "\n",
    "(1) Primary if-else: This is your first decision point.\n",
    "(2) Nested if-else: Inside the block of the primary if-else, you can place another if-else to check further conditions.\n",
    "\n",
    "Example:\n",
    "Let's write a program to classify a person's age into different categories using nested if-else statements.\n",
    "\n",
    "def classify_age(age):\n",
    "    if age < 0:\n",
    "        return \"Invalid age.\"\n",
    "    else:\n",
    "        if age <= 12:\n",
    "            return \"Child\"\n",
    "        else:\n",
    "            if age <= 19:\n",
    "                return \"Teenager\"\n",
    "            else:\n",
    "                if age <= 64:\n",
    "                    return \"Adult\"\n",
    "                else:\n",
    "                    return \"Senior\"\n",
    "\n",
    "age = int(input(\"Enter the age: \"))\n",
    "result = classify_age(age)\n",
    "print(f\"The person is classified as: {result}\")\n",
    "\n",
    "Explanation of the Example:\n",
    "\n",
    "(1) Function Definition:\n",
    "The classify_age function takes one argument, age, which is the age to be classified.\n",
    "\n",
    "(2) Primary if-else:\n",
    "The primary if statement checks if the age is less than 0, which is an invalid age.\n",
    "If the age is less than 0, it returns \"Invalid age.\"\n",
    "The else block contains the next layer of decision-making.\n",
    "\n",
    "(3) First Nested if-else:\n",
    "Inside the else block, the first nested if statement checks if the age is less than or equal to 12.\n",
    "If true, it returns \"Child.\"\n",
    "\n",
    "(4) Second Nested if-else:\n",
    "If the age is greater than 12, the next else block contains another nested if statement to check if the age is less than or equal to 19.\n",
    "If true, it returns \"Teenager.\"\n",
    "\n",
    "(5) Third Nested if-else:\n",
    "If the age is greater than 19, the next else block contains another nested if statement to check if the age is less than or equal to 64.\n",
    "If true, it returns \"Adult.\"\n",
    "\n",
    "(6) Final Else:\n",
    "If none of the above conditions are met (age is greater than 64), it returns \"Senior.\""
   ]
  },
  {
   "cell_type": "markdown",
   "metadata": {},
   "source": [
    "4. Write a Python program to determine the largest of three numbers using if-else"
   ]
  },
  {
   "cell_type": "code",
   "execution_count": 28,
   "metadata": {},
   "outputs": [
    {
     "name": "stdout",
     "output_type": "stream",
     "text": [
      "The largest number among 2.0, 4.0, and 6.0 is: 6.0\n"
     ]
    }
   ],
   "source": [
    "def find_largest(num1, num2, num3):\n",
    "    if num1 >= num2 and num1 >= num3:\n",
    "        return num1\n",
    "    elif num2 >= num1 and num2 >= num3:\n",
    "        return num2\n",
    "    else:\n",
    "        return num3\n",
    "\n",
    "num1 = float(input(\"Enter the first number: \"))\n",
    "num2 = float(input(\"Enter the second number: \"))\n",
    "num3 = float(input(\"Enter the third number: \"))\n",
    "\n",
    "largest = find_largest(num1, num2, num3)\n",
    "print(f\"The largest number among {num1}, {num2}, and {num3} is: {largest}\")\n"
   ]
  },
  {
   "cell_type": "markdown",
   "metadata": {},
   "source": [
    "5. Write a Python program that calculates the absolute value of a number using if-else.\n"
   ]
  },
  {
   "cell_type": "code",
   "execution_count": 29,
   "metadata": {},
   "outputs": [
    {
     "name": "stdout",
     "output_type": "stream",
     "text": [
      "The absolute value of 8.0 is: 8.0\n"
     ]
    }
   ],
   "source": [
    "def calculate_absolute_value(num):\n",
    "    if num >= 0:\n",
    "        return num\n",
    "    else:\n",
    "        return -num\n",
    "number = float(input(\"Enter a number: \"))\n",
    "absolute_value = calculate_absolute_value(number)\n",
    "print(f\"The absolute value of {number} is: {absolute_value}\")"
   ]
  },
  {
   "cell_type": "markdown",
   "metadata": {},
   "source": [
    "6. Create a Python program that checks if a given character is a vowel or consonant using if-else.\n"
   ]
  },
  {
   "cell_type": "code",
   "execution_count": 32,
   "metadata": {},
   "outputs": [
    {
     "name": "stdout",
     "output_type": "stream",
     "text": [
      "a is a vowel.\n"
     ]
    }
   ],
   "source": [
    "def check_vowel_or_consonant(char):\n",
    "    vowels = \"aeiouAEIOU\"\n",
    "\n",
    "    if len(char) == 1 and char.isalpha():\n",
    "        if char in vowels:\n",
    "            return f\"{char} is a vowel.\"\n",
    "        else:\n",
    "            return f\"{char} is a consonant.\"\n",
    "    else:\n",
    "        return \"Invalid input. Please enter a single alphabetic character.\"\n",
    "\n",
    "character = input(\"Enter a single character: \")\n",
    "result = check_vowel_or_consonant(character)\n",
    "print(result)\n"
   ]
  },
  {
   "cell_type": "markdown",
   "metadata": {},
   "source": [
    "7. Write a Python program to determine if a user is eligible to vote based on their age using if-else."
   ]
  },
  {
   "cell_type": "code",
   "execution_count": 33,
   "metadata": {},
   "outputs": [
    {
     "name": "stdout",
     "output_type": "stream",
     "text": [
      "You are eligible to vote.\n"
     ]
    }
   ],
   "source": [
    "def check_voting_eligibility(age):\n",
    "    if age >= 18:\n",
    "        return \"You are eligible to vote.\"\n",
    "    else:\n",
    "        return \"You are not eligible to vote yet.\"\n",
    "\n",
    "age = int(input(\"Enter your age: \"))\n",
    "result = check_voting_eligibility(age)\n",
    "print(result)\n"
   ]
  },
  {
   "cell_type": "markdown",
   "metadata": {},
   "source": [
    "8. Create a Python program that calculates the discount amount based on the purchase amount using if-else.\n"
   ]
  },
  {
   "cell_type": "code",
   "execution_count": 34,
   "metadata": {},
   "outputs": [
    {
     "name": "stdout",
     "output_type": "stream",
     "text": [
      "You received a discount of $123.40.\n"
     ]
    }
   ],
   "source": [
    "def calculate_discount(purchase_amount):\n",
    "    if purchase_amount >= 1000:\n",
    "        discount = 0.1 * purchase_amount \n",
    "    elif purchase_amount >= 500:\n",
    "        discount = 0.05 * purchase_amount \n",
    "    else:\n",
    "        discount = 0 \n",
    "    return discount\n",
    "\n",
    "purchase_amount = float(input(\"Enter the purchase amount: $\"))\n",
    "discount_amount = calculate_discount(purchase_amount)\n",
    "\n",
    "if discount_amount > 0:\n",
    "    print(f\"You received a discount of ${discount_amount:.2f}.\")\n",
    "else:\n",
    "    print(\"No discount applicable for this purchase amount.\")\n"
   ]
  },
  {
   "cell_type": "markdown",
   "metadata": {},
   "source": [
    "9. Write a Python program to check if a number is within a specified range using if-else."
   ]
  },
  {
   "cell_type": "code",
   "execution_count": 36,
   "metadata": {},
   "outputs": [
    {
     "name": "stdout",
     "output_type": "stream",
     "text": [
      "2.0 is within the range [2.0, 16.0].\n"
     ]
    }
   ],
   "source": [
    "def check_number_in_range(number, start, end):\n",
    "    if number >= start and number <= end:\n",
    "        return f\"{number} is within the range [{start}, {end}].\"\n",
    "    else:\n",
    "        return f\"{number} is not within the range [{start}, {end}].\"\n",
    "\n",
    "number = float(input(\"Enter a number: \"))\n",
    "start_range = float(input(\"Enter the start of the range: \"))\n",
    "end_range = float(input(\"Enter the end of the range: \"))\n",
    "\n",
    "result = check_number_in_range(number, start_range, end_range)\n",
    "print(result)\n"
   ]
  },
  {
   "cell_type": "markdown",
   "metadata": {},
   "source": [
    "10. Create a Python program that determines the grade of a student based on their score using if-else"
   ]
  },
  {
   "cell_type": "code",
   "execution_count": 37,
   "metadata": {},
   "outputs": [
    {
     "name": "stdout",
     "output_type": "stream",
     "text": [
      "The grade for the score 98.0 is: A\n"
     ]
    }
   ],
   "source": [
    "def determine_grade(score):\n",
    "    if score >= 90:\n",
    "        return \"A\"\n",
    "    elif score >= 80:\n",
    "        return \"B\"\n",
    "    elif score >= 70:\n",
    "        return \"C\"\n",
    "    elif score >= 60:\n",
    "        return \"D\"\n",
    "    else:\n",
    "        return \"F\"\n",
    "\n",
    "# Example usage\n",
    "score = float(input(\"Enter the student's score: \"))\n",
    "grade = determine_grade(score)\n",
    "print(f\"The grade for the score {score} is: {grade}\")"
   ]
  },
  {
   "cell_type": "markdown",
   "metadata": {},
   "source": [
    "11. Write a Python program to check if a string is empty or not using if-else."
   ]
  },
  {
   "cell_type": "code",
   "execution_count": 38,
   "metadata": {},
   "outputs": [
    {
     "name": "stdout",
     "output_type": "stream",
     "text": [
      "The string is not empty.\n"
     ]
    }
   ],
   "source": [
    "def check_string_empty(string):\n",
    "    if string:\n",
    "        return \"The string is not empty.\"\n",
    "    else:\n",
    "        return \"The string is empty.\"\n",
    "\n",
    "# Example usage\n",
    "user_string = input(\"Enter a string: \")\n",
    "result = check_string_empty(user_string)\n",
    "print(result)\n"
   ]
  },
  {
   "cell_type": "markdown",
   "metadata": {},
   "source": [
    "12. Create a Python program that identifies the type of a triangle (e.g., equilateral, isosceles, or scalene) based on input values using if else.\n"
   ]
  },
  {
   "cell_type": "code",
   "execution_count": 39,
   "metadata": {},
   "outputs": [
    {
     "name": "stdout",
     "output_type": "stream",
     "text": [
      "The triangle is equilateral.\n"
     ]
    }
   ],
   "source": [
    "def identify_triangle_type(side1, side2, side3):\n",
    "    if side1 == side2 == side3:\n",
    "        return \"The triangle is equilateral.\"\n",
    "    elif side1 == side2 or side2 == side3 or side1 == side3:\n",
    "        return \"The triangle is isosceles.\"\n",
    "    else:\n",
    "        return \"The triangle is scalene.\"\n",
    "\n",
    "side1 = float(input(\"Enter the length of the first side: \"))\n",
    "side2 = float(input(\"Enter the length of the second side: \"))\n",
    "side3 = float(input(\"Enter the length of the third side: \"))\n",
    "\n",
    "if (side1 + side2 > side3) and (side1 + side3 > side2) and (side2 + side3 > side1):\n",
    "    result = identify_triangle_type(side1, side2, side3)\n",
    "else:\n",
    "    result = \"The input values do not form a valid triangle.\"\n",
    "\n",
    "print(result)"
   ]
  },
  {
   "cell_type": "markdown",
   "metadata": {},
   "source": [
    "13. Write a Python program to determine the day of the week based on a user-provided number using if-else."
   ]
  },
  {
   "cell_type": "code",
   "execution_count": 40,
   "metadata": {},
   "outputs": [
    {
     "name": "stdout",
     "output_type": "stream",
     "text": [
      "Saturday\n"
     ]
    }
   ],
   "source": [
    "def get_day_of_week(number):\n",
    "    if number == 1:\n",
    "        return \"Monday\"\n",
    "    elif number == 2:\n",
    "        return \"Tuesday\"\n",
    "    elif number == 3:\n",
    "        return \"Wednesday\"\n",
    "    elif number == 4:\n",
    "        return \"Thursday\"\n",
    "    elif number == 5:\n",
    "        return \"Friday\"\n",
    "    elif number == 6:\n",
    "        return \"Saturday\"\n",
    "    elif number == 7:\n",
    "        return \"Sunday\"\n",
    "    else:\n",
    "        return \"Invalid input. Please enter a number between 1 and 7.\"\n",
    "\n",
    "number = int(input(\"Enter a number (1-7) to get the corresponding day of the week: \"))\n",
    "day_of_week = get_day_of_week(number)\n",
    "print(day_of_week)"
   ]
  },
  {
   "cell_type": "markdown",
   "metadata": {},
   "source": [
    "14. Create a Python program that checks if a given year is a leap year using both if-else and a function.\n"
   ]
  },
  {
   "cell_type": "code",
   "execution_count": 41,
   "metadata": {},
   "outputs": [
    {
     "name": "stdout",
     "output_type": "stream",
     "text": [
      "2024 is a leap year (checked using function).\n",
      "2024 is a leap year (checked using if-else).\n"
     ]
    }
   ],
   "source": [
    "def is_leap_year(year):\n",
    "    \"\"\"\n",
    "    Determine whether a given year is a leap year.\n",
    "\n",
    "    Args:\n",
    "    year (int): The year to check.\n",
    "\n",
    "    Returns:\n",
    "    bool: True if the year is a leap year, False otherwise.\n",
    "    \"\"\"\n",
    "    if (year % 4 == 0 and year % 100 != 0) or (year % 400 == 0):\n",
    "        return True\n",
    "    else:\n",
    "        return False\n",
    "\n",
    "year = int(input(\"Enter a year to check if it is a leap year: \"))\n",
    "\n",
    "if is_leap_year(year):\n",
    "    print(f\"{year} is a leap year (checked using function).\")\n",
    "else:\n",
    "    print(f\"{year} is not a leap year (checked using function).\")\n",
    "\n",
    "if (year % 4 == 0 and year % 100 != 0) or (year % 400 == 0):\n",
    "    print(f\"{year} is a leap year (checked using if-else).\")\n",
    "else:\n",
    "    print(f\"{year} is not a leap year (checked using if-else).\")\n"
   ]
  },
  {
   "cell_type": "markdown",
   "metadata": {},
   "source": [
    "15. How do you use the \"assert\" statement in Python to add debugging checks within if-else blocks?\n"
   ]
  },
  {
   "cell_type": "code",
   "execution_count": 42,
   "metadata": {},
   "outputs": [
    {
     "name": "stdout",
     "output_type": "stream",
     "text": [
      "2024 is a leap year (checked using function).\n",
      "2024 is a leap year (checked using if-else).\n"
     ]
    }
   ],
   "source": [
    "def is_leap_year(year):\n",
    "    \"\"\"\n",
    "    Determine whether a given year is a leap year.\n",
    "\n",
    "    Args:\n",
    "    year (int): The year to check.\n",
    "\n",
    "    Returns:\n",
    "    bool: True if the year is a leap year, False otherwise.\n",
    "    \"\"\"\n",
    "    # Debugging checks using assert\n",
    "    assert isinstance(year, int), \"Year must be an integer\"\n",
    "    assert year > 0, \"Year must be positive\"\n",
    "    \n",
    "    # Check leap year condition\n",
    "    if (year % 4 == 0 and year % 100 != 0) or (year % 400 == 0):\n",
    "        return True\n",
    "    else:\n",
    "        return False\n",
    "\n",
    "# Main code to use the function and if-else for checking leap year\n",
    "year = int(input(\"Enter a year to check if it is a leap year: \"))\n",
    "\n",
    "# Using the function\n",
    "leap_year_result = is_leap_year(year)\n",
    "assert leap_year_result == ((year % 4 == 0 and year % 100 != 0) or (year % 400 == 0)), \"Leap year check logic is inconsistent\"\n",
    "\n",
    "if leap_year_result:\n",
    "    print(f\"{year} is a leap year (checked using function).\")\n",
    "else:\n",
    "    print(f\"{year} is not a leap year (checked using function).\")\n",
    "\n",
    "# Using if-else directly\n",
    "if (year % 4 == 0 and year % 100 != 0) or (year % 400 == 0):\n",
    "    print(f\"{year} is a leap year (checked using if-else).\")\n",
    "else:\n",
    "    print(f\"{year} is not a leap year (checked using if-else).\")\n",
    "\n",
    "# Direct assertion in if-else\n",
    "assert ((year % 4 == 0 and year % 100 != 0) or (year % 400 == 0)) == is_leap_year(year), \"Direct if-else check logic is inconsistent with function result\"\n"
   ]
  },
  {
   "cell_type": "markdown",
   "metadata": {},
   "source": [
    "16. Create a Python program that determines the eligibility of a person for a senior citizen discount based on age using if-else.\n"
   ]
  },
  {
   "cell_type": "code",
   "execution_count": 43,
   "metadata": {},
   "outputs": [
    {
     "name": "stdout",
     "output_type": "stream",
     "text": [
      "The person is eligible for a senior citizen discount.\n"
     ]
    }
   ],
   "source": [
    "def is_eligible_for_senior_discount(age):\n",
    "    \"\"\"\n",
    "    Determine whether a person is eligible for a senior citizen discount based on age.\n",
    "\n",
    "    Args:\n",
    "    age (int): The age of the person.\n",
    "\n",
    "    Returns:\n",
    "    bool: True if the person is eligible for the discount, False otherwise.\n",
    "    \"\"\"\n",
    "    SENIOR_DISCOUNT_AGE = 65\n",
    "    if age >= SENIOR_DISCOUNT_AGE:\n",
    "        return True\n",
    "    else:\n",
    "        return False\n",
    "try:\n",
    "    age = int(input(\"Enter the age of the person: \"))\n",
    "\n",
    "    if is_eligible_for_senior_discount(age):\n",
    "        print(\"The person is eligible for a senior citizen discount.\")\n",
    "    else:\n",
    "        print(\"The person is not eligible for a senior citizen discount.\")\n",
    "except ValueError:\n",
    "    print(\"Invalid input! Please enter a valid age.\")\n"
   ]
  },
  {
   "cell_type": "markdown",
   "metadata": {},
   "source": [
    "17. Write a Python program to categorize a given character as uppercase, lowercase, or neither using if-else.\n"
   ]
  },
  {
   "cell_type": "code",
   "execution_count": 45,
   "metadata": {},
   "outputs": [
    {
     "name": "stdout",
     "output_type": "stream",
     "text": [
      "The character is lowercase.\n"
     ]
    }
   ],
   "source": [
    "def categorize_character(char):\n",
    "    if char.isupper():\n",
    "        return \"The character is uppercase.\"\n",
    "    elif char.islower():\n",
    "        return \"The character is lowercase.\"\n",
    "    else:\n",
    "        return \"The character is neither uppercase nor lowercase.\"\n",
    "char = input(\"Enter a character to categorize: \")\n",
    "\n",
    "if len(char) != 1:\n",
    "    print(\"Please enter exactly one character.\")\n",
    "else:\n",
    "    result = categorize_character(char)\n",
    "    print(result)\n"
   ]
  },
  {
   "cell_type": "markdown",
   "metadata": {},
   "source": [
    "18. Write a Python program to determine the roots of a quadratic equation using if-else.\n"
   ]
  },
  {
   "cell_type": "code",
   "execution_count": 46,
   "metadata": {},
   "outputs": [
    {
     "name": "stdout",
     "output_type": "stream",
     "text": [
      "The roots of the quadratic equation are: (-1+1.4142135623730951j) and (-1-1.4142135623730951j)\n"
     ]
    }
   ],
   "source": [
    "import cmath\n",
    "\n",
    "def find_roots(a, b, c):\n",
    "    discriminant = b**2 - 4*a*c\n",
    "    if discriminant > 0:\n",
    "       \n",
    "        root1 = (-b + cmath.sqrt(discriminant).real) / (2 * a)\n",
    "        root2 = (-b - cmath.sqrt(discriminant).real) / (2 * a)\n",
    "        return (root1, root2)\n",
    "    elif discriminant == 0:\n",
    "        \n",
    "        root = -b / (2 * a)\n",
    "        return (root, root)\n",
    "    else:\n",
    "       \n",
    "        root1 = (-b + cmath.sqrt(discriminant)) / (2 * a)\n",
    "        root2 = (-b - cmath.sqrt(discriminant)) / (2 * a)\n",
    "        return (root1, root2)\n",
    "try:\n",
    "    a = float(input(\"Enter coefficient a: \"))\n",
    "    b = float(input(\"Enter coefficient b: \"))\n",
    "    c = float(input(\"Enter coefficient c: \"))\n",
    "\n",
    "    if a == 0:\n",
    "        print(\"The coefficient 'a' cannot be zero in a quadratic equation.\")\n",
    "    else:\n",
    "        roots = find_roots(a, b, c)\n",
    "        if roots[0] == roots[1]:\n",
    "            print(f\"The equation has one real double root: {roots[0]}\")\n",
    "        else:\n",
    "            print(f\"The roots of the quadratic equation are: {roots[0]} and {roots[1]}\")\n",
    "\n",
    "except ValueError:\n",
    "    print(\"Invalid input! Please enter numeric values for the coefficients.\")\n"
   ]
  },
  {
   "cell_type": "markdown",
   "metadata": {},
   "source": [
    "19. Create a Python program that checks if a given year is a century year or not using if-else."
   ]
  },
  {
   "cell_type": "code",
   "execution_count": 47,
   "metadata": {},
   "outputs": [
    {
     "name": "stdout",
     "output_type": "stream",
     "text": [
      "2022 is not a century year.\n"
     ]
    }
   ],
   "source": [
    "def is_century_year(year):\n",
    "    if year % 100 == 0:\n",
    "        return True\n",
    "    else:\n",
    "        return False\n",
    "try:\n",
    "    year = int(input(\"Enter a year to check if it is a century year: \"))\n",
    "\n",
    "    if is_century_year(year):\n",
    "        print(f\"{year} is a century year.\")\n",
    "    else:\n",
    "        print(f\"{year} is not a century year.\")\n",
    "except ValueError:\n",
    "    print(\"Invalid input! Please enter a valid year.\")\n"
   ]
  },
  {
   "cell_type": "markdown",
   "metadata": {},
   "source": [
    "20. Write a Python program to determine if a given number is a perfect square using if-else.\n"
   ]
  },
  {
   "cell_type": "code",
   "execution_count": 48,
   "metadata": {},
   "outputs": [
    {
     "name": "stdout",
     "output_type": "stream",
     "text": [
      "16 is a perfect square.\n"
     ]
    }
   ],
   "source": [
    "import math\n",
    "\n",
    "def is_perfect_square(number):\n",
    "    if number < 0:\n",
    "        return False\n",
    "    \n",
    "    sqrt = math.isqrt(number)\n",
    "    \n",
    "    if sqrt * sqrt == number:\n",
    "        return True\n",
    "    else:\n",
    "        return False\n",
    "\n",
    "try:\n",
    "    number = int(input(\"Enter a number to check if it is a perfect square: \"))\n",
    "\n",
    "    if is_perfect_square(number):\n",
    "        print(f\"{number} is a perfect square.\")\n",
    "    else:\n",
    "        print(f\"{number} is not a perfect square.\")\n",
    "except ValueError:\n",
    "    print(\"Invalid input! Please enter a valid integer.\")\n"
   ]
  },
  {
   "cell_type": "markdown",
   "metadata": {},
   "source": [
    "21. Explain the purpose of the \"continue\" and \"break\" statements within if-else loops."
   ]
  },
  {
   "cell_type": "markdown",
   "metadata": {},
   "source": [
    "The continue and break statements are control flow statements in Python used within loops (such as for and while loops) to alter the normal flow of execution.\n",
    "\n",
    "(A) Purpose of continue:\n",
    "- The continue statement is used to skip the rest of the current iteration of a loop and proceed to the next iteration.\n",
    "- When encountered, the continue statement causes the loop to immediately jump to the next iteration, skipping any remaining code within the loop's body for the current iteration.\n",
    "- It is typically used when you want to skip certain iterations of a loop based on a condition, but continue executing the loop for subsequent iterations.\n",
    "\n",
    "(B) Purpose of break:\n",
    "- The break statement is used to exit (or \"break out of\") a loop prematurely.\n",
    "- When encountered, the break statement immediately terminates the loop in which it is contained, regardless of the loop's condition or how many iterations have been completed.\n",
    "- It is typically used when you want to exit a loop early based on a certain condition, without completing all iterations.\n"
   ]
  },
  {
   "cell_type": "markdown",
   "metadata": {},
   "source": [
    "22. Create a Python program that calculates the BMI (Body Mass Index) of a person based on their weight and height using if-else."
   ]
  },
  {
   "cell_type": "code",
   "execution_count": 49,
   "metadata": {},
   "outputs": [
    {
     "name": "stdout",
     "output_type": "stream",
     "text": [
      "Your BMI is: 27.53\n",
      "Your BMI category is: Overweight\n"
     ]
    }
   ],
   "source": [
    "def calculate_bmi(weight, height):\n",
    "    bmi = weight / (height ** 2)\n",
    "    return bmi\n",
    "\n",
    "def classify_bmi(bmi):\n",
    "    if bmi < 18.5:\n",
    "        return \"Underweight\"\n",
    "    elif 18.5 <= bmi < 24.9:\n",
    "        return \"Normal weight\"\n",
    "    elif 25 <= bmi < 29.9:\n",
    "        return \"Overweight\"\n",
    "    else:\n",
    "        return \"Obesity\"\n",
    "try:\n",
    "    weight = float(input(\"Enter your weight in kilograms: \"))\n",
    "    height = float(input(\"Enter your height in meters: \"))\n",
    "\n",
    "    if weight <= 0 or height <= 0:\n",
    "        print(\"Weight and height must be positive values.\")\n",
    "    else:\n",
    "        bmi = calculate_bmi(weight, height)\n",
    "        category = classify_bmi(bmi)\n",
    "        print(f\"Your BMI is: {bmi:.2f}\")\n",
    "        print(f\"Your BMI category is: {category}\")\n",
    "\n",
    "except ValueError:\n",
    "    print(\"Invalid input! Please enter valid numeric values for weight and height.\")\n"
   ]
  },
  {
   "cell_type": "markdown",
   "metadata": {},
   "source": [
    "23. How can you use the \"filter()\" function with if-else statements to filter elements from a list?"
   ]
  },
  {
   "cell_type": "code",
   "execution_count": 50,
   "metadata": {},
   "outputs": [
    {
     "name": "stdout",
     "output_type": "stream",
     "text": [
      "Even numbers: [2, 4, 6, 8, 10]\n"
     ]
    }
   ],
   "source": [
    "'''The filter() function in Python is used to construct an iterator from elements of an iterable for which a function returns True.\n",
    "While the filter() function itself doesn't directly support if-else statements, you can achieve the same effect by defining a function\n",
    "(or using a lambda function) that includes if-else logic to determine if each element should be included.\n",
    "\n",
    "Here's an example of how you can use the filter() function with if-else statements to filter elements from a list:\n",
    "\n",
    "Example: Filtering Even Numbers from a List '''\n",
    "\n",
    "def is_even(number):\n",
    "    \"\"\"\n",
    "    Check if a number is even.\n",
    "\n",
    "    Args:\n",
    "    number (int): The number to check.\n",
    "\n",
    "    Returns:\n",
    "    bool: True if the number is even, False otherwise.\n",
    "    \"\"\"\n",
    "    if number % 2 == 0:\n",
    "        return True\n",
    "    else:\n",
    "        return False\n",
    "\n",
    "# List of numbers\n",
    "numbers = [1, 2, 3, 4, 5, 6, 7, 8, 9, 10]\n",
    "\n",
    "# Using filter() with the is_even function\n",
    "even_numbers = list(filter(is_even, numbers))\n",
    "\n",
    "print(\"Even numbers:\", even_numbers)\n"
   ]
  },
  {
   "cell_type": "markdown",
   "metadata": {},
   "source": [
    "24. Write a Python program to determine if a given number is prime or not using if-else."
   ]
  },
  {
   "cell_type": "code",
   "execution_count": 51,
   "metadata": {},
   "outputs": [
    {
     "name": "stdout",
     "output_type": "stream",
     "text": [
      "45 is not a prime number.\n"
     ]
    }
   ],
   "source": [
    "def is_prime(number):\n",
    "    if number <= 1:\n",
    "        return False  \n",
    "    elif number == 2:\n",
    "        return True  \n",
    "    elif number % 2 == 0:\n",
    "        return False \n",
    "   \n",
    "    for i in range(3, int(number ** 0.5) + 1, 2):\n",
    "        if number % i == 0:\n",
    "            return False\n",
    "    \n",
    "    return True\n",
    "try:\n",
    "    number = int(input(\"Enter a number to check if it is prime: \"))\n",
    "    if is_prime(number):\n",
    "        print(f\"{number} is a prime number.\")\n",
    "    else:\n",
    "        print(f\"{number} is not a prime number.\")\n",
    "except ValueError:\n",
    "    print(\"Invalid\")\n"
   ]
  },
  {
   "cell_type": "markdown",
   "metadata": {},
   "source": [
    "Map :-"
   ]
  },
  {
   "cell_type": "markdown",
   "metadata": {},
   "source": [
    "1. Explain the purpose of the `map()` function in Python and provide an example of how it can be used to apply a function to each element of an iterable."
   ]
  },
  {
   "cell_type": "code",
   "execution_count": 52,
   "metadata": {},
   "outputs": [
    {
     "name": "stdout",
     "output_type": "stream",
     "text": [
      "[1, 4, 9, 16, 25]\n"
     ]
    }
   ],
   "source": [
    "''' The map() function in Python is used to apply a given function to each item of an iterable (such as a list, tuple, etc.) and return a map \n",
    "object (an iterator) containing the results.\n",
    "The map() function is particularly useful when you need to perform the same operation on all elements of an iterable without explicitly writing \n",
    "a loop.\n",
    " \n",
    "Purpose:\n",
    "Apply a Function to Each Element: The primary purpose of map() is to apply a specified function to every item in an iterable.\n",
    "Transform Data: It can be used to transform data elements, such as converting strings to integers, computing squares of numbers, etc.\n",
    "Functional Programming: It supports a functional programming style by allowing the use of functions as first-class objects.\n",
    "\n",
    "Example:\n",
    "Here's an example of how to use the map() function to apply a function that squares each number in a list.\n",
    "\n",
    "Example 1: Squaring Numbers ''' \n",
    "\n",
    "def square(x):\n",
    "    return x * x\n",
    "\n",
    "numbers = [1, 2, 3, 4, 5]\n",
    "squared_numbers = map(square, numbers)\n",
    "print(list(squared_numbers))\n"
   ]
  },
  {
   "cell_type": "markdown",
   "metadata": {},
   "source": [
    "2. Write a Python program that uses the `map()` function to square each element of a list of numbers."
   ]
  },
  {
   "cell_type": "code",
   "execution_count": 54,
   "metadata": {},
   "outputs": [
    {
     "name": "stdout",
     "output_type": "stream",
     "text": [
      "Original numbers: [1, 2, 3, 4, 5, 6, 7, 8, 9, 10]\n",
      "Squared numbers: [1, 4, 9, 16, 25, 36, 49, 64, 81, 100]\n"
     ]
    }
   ],
   "source": [
    "def square(x):\n",
    "    return x * x\n",
    "numbers = [1, 2, 3, 4, 5, 6, 7, 8, 9, 10]\n",
    "squared_numbers = map(square, numbers)\n",
    "squared_numbers_list = list(squared_numbers)\n",
    "\n",
    "print(\"Original numbers:\", numbers)\n",
    "print(\"Squared numbers:\", squared_numbers_list)\n"
   ]
  },
  {
   "cell_type": "markdown",
   "metadata": {},
   "source": [
    "3. How does the `map()` function differ from a list comprehension in Python, and when would you choose one over the other?"
   ]
  },
  {
   "cell_type": "code",
   "execution_count": 55,
   "metadata": {},
   "outputs": [
    {
     "name": "stdout",
     "output_type": "stream",
     "text": [
      "[4, 16]\n"
     ]
    }
   ],
   "source": [
    "''' The map() function and list comprehensions in Python are both used to apply a transformation or operation to each element in an iterable. \n",
    "However, they have different syntaxes and some differences in functionality and usage. \n",
    "Here's a detailed comparison and guidelines on when to choose one over the other.\n",
    "\n",
    "\n",
    "Differences Between map() and List Comprehensions\n",
    "\n",
    "(A) Syntax:\n",
    "(1) map():\n",
    "map(function, iterable)\n",
    "Applies a given function to each item of an iterable.\n",
    "Can take multiple iterables if the function takes multiple arguments.\n",
    "\n",
    "(2) List Comprehension:\n",
    "[expression for item in iterable]\n",
    "Applies an expression to each item in the iterable.\n",
    "More readable and Pythonic for simple transformations.\n",
    "Can include conditional filtering.\n",
    "\n",
    "(B) Return Type:\n",
    "map(): Returns a map object, which is an iterator. You often need to convert it to a list or another collection type.\n",
    "List Comprehension: Directly returns a list.\n",
    "\n",
    "(C)Function vs Expression:\n",
    "map(): Requires a function to apply to each element.\n",
    "List Comprehension: Can apply any expression, including more complex logic and inline conditionals.\n",
    "\n",
    "(E)Readability and Pythonic Style:\n",
    "List Comprehension: Often more readable and considered more Pythonic for simple operations.\n",
    "map(): Can be less readable, especially when combined with lambda functions.\n",
    "\n",
    "\n",
    "When to Choose One Over the Other\n",
    "\n",
    "(1) Use map() When:\n",
    "You already have a named function that you want to apply to each element.\n",
    "You need to apply a function to multiple iterables (i.e., when the function takes multiple arguments).\n",
    "You want to leverage iterators for memory efficiency on large datasets.\n",
    "\n",
    "\n",
    "(2) Use List Comprehension When:\n",
    "You want a more readable and concise syntax, especially for simple transformations.\n",
    "You want to include conditional logic directly in the expression.\n",
    "You are working within the idiomatic Python style (Pythonic code).\n",
    "'''\n",
    "\n",
    "\n",
    "numbers = [1, 2, 3, 4, 5]\n",
    "\n",
    "even_squares = [x * x for x in numbers if x % 2 == 0]\n",
    "print(even_squares)\n"
   ]
  },
  {
   "cell_type": "markdown",
   "metadata": {},
   "source": [
    "4. Create a Python program that uses the `map()` function to convert a list of names to uppercase."
   ]
  },
  {
   "cell_type": "code",
   "execution_count": 56,
   "metadata": {},
   "outputs": [
    {
     "name": "stdout",
     "output_type": "stream",
     "text": [
      "Original names: ['Alice', 'Bob', 'Charlie', 'David', 'Eve']\n",
      "Uppercase names: ['ALICE', 'BOB', 'CHARLIE', 'DAVID', 'EVE']\n"
     ]
    }
   ],
   "source": [
    "def to_uppercase(name):\n",
    "    return name.upper()\n",
    "names = [\"Alice\", \"Bob\", \"Charlie\", \"David\", \"Eve\"]\n",
    "uppercase_names = map(to_uppercase, names)\n",
    "uppercase_names_list = list(uppercase_names)\n",
    "print(\"Original names:\", names)\n",
    "print(\"Uppercase names:\", uppercase_names_list)\n"
   ]
  },
  {
   "cell_type": "markdown",
   "metadata": {},
   "source": [
    "5. Write a Python program that uses the `map()` function to calculate the length of each word in a list of strings.\n"
   ]
  },
  {
   "cell_type": "code",
   "execution_count": 57,
   "metadata": {},
   "outputs": [
    {
     "name": "stdout",
     "output_type": "stream",
     "text": [
      "[5, 6, 6, 4, 10, 3, 5]\n"
     ]
    }
   ],
   "source": [
    "words = [\"apple\", \"banana\", \"cherry\", \"date\", \"elderberry\", \"fig\", \"grape\"]\n",
    "lengths = map(len, words)\n",
    "lengths_list = list(lengths)\n",
    "print(lengths_list)"
   ]
  },
  {
   "cell_type": "markdown",
   "metadata": {},
   "source": [
    "6. How can you use the `map()` function to apply a custom function to elements of multiple lists simultaneously in Python?"
   ]
  },
  {
   "cell_type": "code",
   "execution_count": 58,
   "metadata": {},
   "outputs": [
    {
     "name": "stdout",
     "output_type": "stream",
     "text": [
      "['Hello World', 'Good Morning', 'Happy Day']\n"
     ]
    }
   ],
   "source": [
    "def concatenate(str1, str2):\n",
    "    return str1 + \" \" + str2\n",
    "list1 = [\"Hello\", \"Good\", \"Happy\"]\n",
    "list2 = [\"World\", \"Morning\", \"Day\"]\n",
    "\n",
    "result = map(concatenate, list1, list2)\n",
    "result_list = list(result)\n",
    "\n",
    "print(result_list)\n"
   ]
  },
  {
   "cell_type": "markdown",
   "metadata": {},
   "source": [
    "7. Create a Python program that uses `map()` to convert a list of temperatures from Celsius to Fahrenheit.\n"
   ]
  },
  {
   "cell_type": "code",
   "execution_count": 59,
   "metadata": {},
   "outputs": [
    {
     "name": "stdout",
     "output_type": "stream",
     "text": [
      "[32.0, 50.0, 68.0, 86.0, 104.0]\n"
     ]
    }
   ],
   "source": [
    "def celsius_to_fahrenheit(celsius):\n",
    "    return (celsius * 9/5) + 32\n",
    "celsius_temperatures = [0, 10, 20, 30, 40]\n",
    "fahrenheit_temperatures = map(celsius_to_fahrenheit, celsius_temperatures)\n",
    "fahrenheit_temperatures_list = list(fahrenheit_temperatures)\n",
    "print(fahrenheit_temperatures_list)\n"
   ]
  },
  {
   "cell_type": "markdown",
   "metadata": {},
   "source": [
    "8. Write a Python program that uses the `map()` function to round each element of a list of floating-point numbers to the nearest integer.\n"
   ]
  },
  {
   "cell_type": "code",
   "execution_count": 60,
   "metadata": {},
   "outputs": [
    {
     "name": "stdout",
     "output_type": "stream",
     "text": [
      "[3, 3, 2, 1, 4]\n"
     ]
    }
   ],
   "source": [
    "float_numbers = [3.14, 2.718, 1.5, 0.99, 4.5]\n",
    "rounded_numbers = map(round, float_numbers)\n",
    "rounded_numbers_list = list(rounded_numbers)\n",
    "print(rounded_numbers_list)"
   ]
  },
  {
   "cell_type": "markdown",
   "metadata": {},
   "source": [
    "Reduce :-"
   ]
  },
  {
   "cell_type": "markdown",
   "metadata": {},
   "source": [
    "1. What is the `reduce()` function in Python, and what module should you import to use it? Provide an example of its basic usage"
   ]
  },
  {
   "cell_type": "code",
   "execution_count": 61,
   "metadata": {},
   "outputs": [
    {
     "name": "stdout",
     "output_type": "stream",
     "text": [
      "15\n"
     ]
    }
   ],
   "source": [
    "''' The reduce() function in Python is used to apply a function of two arguments cumulatively to the items of an iterable,\n",
    " from left to right, so as to reduce the iterable to a single value. This function is part of the functools module in Python.\n",
    "\n",
    "Here's an example of how the reduce() function can be used:'''\n",
    "\n",
    "from functools import reduce\n",
    "def add(x, y):\n",
    "    return x + y\n",
    "numbers = [1, 2, 3, 4, 5]\n",
    "sum_of_numbers = reduce(add, numbers)\n",
    "print(sum_of_numbers)"
   ]
  },
  {
   "cell_type": "markdown",
   "metadata": {},
   "source": [
    "2. Write a Python program that uses the `reduce()` function to find the product of all elements in a list."
   ]
  },
  {
   "cell_type": "code",
   "execution_count": 62,
   "metadata": {},
   "outputs": [
    {
     "name": "stdout",
     "output_type": "stream",
     "text": [
      "120\n"
     ]
    }
   ],
   "source": [
    "from functools import reduce\n",
    "def multiply(x, y):\n",
    "    return x * y\n",
    "numbers = [1, 2, 3, 4, 5]\n",
    "product_of_numbers = reduce(multiply, numbers)\n",
    "print(product_of_numbers)\n"
   ]
  },
  {
   "cell_type": "markdown",
   "metadata": {},
   "source": [
    "3. Create a Python program that uses `reduce()` to find the maximum element in a list of numbers."
   ]
  },
  {
   "cell_type": "code",
   "execution_count": 63,
   "metadata": {},
   "outputs": [
    {
     "name": "stdout",
     "output_type": "stream",
     "text": [
      "The maximum element in the list is: 89\n"
     ]
    }
   ],
   "source": [
    "from functools import reduce\n",
    "def find_max(x, y):\n",
    "    return max(x, y)\n",
    "numbers = [12, 45, 78, 23, 56, 89, 34, 67]\n",
    "max_number = reduce(find_max, numbers)\n",
    "print(\"The maximum element in the list is:\", max_number)"
   ]
  },
  {
   "cell_type": "markdown",
   "metadata": {},
   "source": [
    "4. How can you use the `reduce()` function to concatenate a list of strings into a single string?\n"
   ]
  },
  {
   "cell_type": "code",
   "execution_count": 64,
   "metadata": {},
   "outputs": [
    {
     "name": "stdout",
     "output_type": "stream",
     "text": [
      "hello world!\n"
     ]
    }
   ],
   "source": [
    "from functools import reduce\n",
    "strings = [\"hello\", \" \", \"world\", \"!\"]\n",
    "concatenated_string = reduce(lambda x, y: x + y, strings)\n",
    "\n",
    "print(concatenated_string)"
   ]
  },
  {
   "cell_type": "markdown",
   "metadata": {},
   "source": [
    "5. Write a Python program that calculates the factorial of a number using the `reduce()` function."
   ]
  },
  {
   "cell_type": "code",
   "execution_count": 66,
   "metadata": {},
   "outputs": [
    {
     "name": "stdout",
     "output_type": "stream",
     "text": [
      "Factorial of 5 is 120\n"
     ]
    }
   ],
   "source": [
    "from functools import reduce\n",
    "\n",
    "def factorial(n):\n",
    "    if n == 0:\n",
    "        return 1\n",
    "    else:\n",
    "        return reduce(lambda x, y: x * y, range(1, n + 1))\n",
    "num = int(input(\"Enter a number: \"))\n",
    "result = factorial(num)\n",
    "\n",
    "print(\"Factorial of\", num, \"is\", result)\n"
   ]
  },
  {
   "cell_type": "markdown",
   "metadata": {},
   "source": [
    "6. Create a Python program that uses `reduce()` to find the GCD (Greatest Common Divisor) of a list of numbers.\n"
   ]
  },
  {
   "cell_type": "code",
   "execution_count": 67,
   "metadata": {},
   "outputs": [
    {
     "name": "stdout",
     "output_type": "stream",
     "text": [
      "GCD of the numbers [12, 18, 24, 36] is 6\n"
     ]
    }
   ],
   "source": [
    "from functools import reduce\n",
    "import math\n",
    "\n",
    "def gcd(a, b):\n",
    "    return math.gcd(a, b)\n",
    "\n",
    "def gcd_of_list(numbers):\n",
    "    return reduce(gcd, numbers)\n",
    "numbers = [12, 18, 24, 36]\n",
    "result = gcd_of_list(numbers)\n",
    "\n",
    "print(\"GCD of the numbers\", numbers, \"is\", result)\n"
   ]
  },
  {
   "cell_type": "markdown",
   "metadata": {},
   "source": [
    "Filter :-"
   ]
  },
  {
   "cell_type": "markdown",
   "metadata": {},
   "source": [
    "1. Explain the purpose of the `filter()` function in Python and provide an example of how it can be used to filter elements from an iterable.\n"
   ]
  },
  {
   "cell_type": "code",
   "execution_count": 68,
   "metadata": {},
   "outputs": [
    {
     "name": "stdout",
     "output_type": "stream",
     "text": [
      "Even numbers: [2, 4, 6, 8, 10]\n"
     ]
    }
   ],
   "source": [
    "''' The filter() function in Python is used to filter elements from an iterable (such as a list, tuple, or set) based on a function \n",
    "(or condition) that returns True or False. It creates an iterator that yields those elements of the iterable for which \n",
    "the function returns True. \n",
    "\n",
    "Here's how the filter() function works:\n",
    "filter(function, iterable)\n",
    "\n",
    "function: A function that returns True or False. This function will be applied to each element of the iterable.\n",
    "iterable: An iterable object from which elements are to be filtered.\n",
    "\n",
    "The filter() function returns an iterator containing only the elements for which the function returns True.\n",
    "\n",
    "Here's an example of how filter() can be used to filter even numbers from a list: '''\n",
    "\n",
    "def is_even(num):\n",
    "    return num % 2 == 0\n",
    "numbers = [1, 2, 3, 4, 5, 6, 7, 8, 9, 10]\n",
    "even_numbers = list(filter(is_even, numbers))\n",
    "\n",
    "print(\"Even numbers:\", even_numbers)\n"
   ]
  },
  {
   "cell_type": "markdown",
   "metadata": {},
   "source": [
    "2. Write a Python program that uses the `filter()` function to select even numbers from a list of integers."
   ]
  },
  {
   "cell_type": "code",
   "execution_count": 69,
   "metadata": {},
   "outputs": [
    {
     "name": "stdout",
     "output_type": "stream",
     "text": [
      "Even numbers: [2, 4, 6, 8, 10]\n"
     ]
    }
   ],
   "source": [
    "numbers = [1, 2, 3, 4, 5, 6, 7, 8, 9, 10]\n",
    "def is_even(num):\n",
    "    return num % 2 == 0\n",
    "even_numbers = list(filter(is_even, numbers))\n",
    "\n",
    "print(\"Even numbers:\", even_numbers)"
   ]
  },
  {
   "cell_type": "markdown",
   "metadata": {},
   "source": [
    "3. Create a Python program that uses the `filter()` function to select names that start with a specific letter from a list of strings.\n"
   ]
  },
  {
   "cell_type": "code",
   "execution_count": 70,
   "metadata": {},
   "outputs": [
    {
     "name": "stdout",
     "output_type": "stream",
     "text": [
      "Names starting with letter C: ['Charlie']\n"
     ]
    }
   ],
   "source": [
    "names = [\"Alice\", \"Bob\", \"Charlie\", \"David\", \"Emma\", \"Frank\"]\n",
    "def starts_with(letter, name):\n",
    "    return name.startswith(letter)\n",
    "starting_letter = \"C\"\n",
    "selected_names = list(filter(lambda name: starts_with(starting_letter, name), names))\n",
    "\n",
    "print(\"Names starting with letter\", starting_letter + \":\", selected_names)\n"
   ]
  },
  {
   "cell_type": "markdown",
   "metadata": {},
   "source": [
    "4. Write a Python program that uses the `filter()` function to select prime numbers from a list of integers."
   ]
  },
  {
   "cell_type": "code",
   "execution_count": 71,
   "metadata": {},
   "outputs": [
    {
     "name": "stdout",
     "output_type": "stream",
     "text": [
      "Prime numbers: [2, 3, 5, 7, 11, 13]\n"
     ]
    }
   ],
   "source": [
    "def is_prime(n):\n",
    "    if n <= 1:\n",
    "        return False\n",
    "    elif n == 2:\n",
    "        return True\n",
    "    elif n % 2 == 0:\n",
    "        return False\n",
    "    else:\n",
    "        for i in range(3, int(n**0.5) + 1, 2):\n",
    "            if n % i == 0:\n",
    "                return False\n",
    "        return True\n",
    "numbers = [1, 2, 3, 4, 5, 6, 7, 8, 9, 10, 11, 12, 13, 14, 15]\n",
    "prime_numbers = list(filter(is_prime, numbers))\n",
    "print(\"Prime numbers:\", prime_numbers)"
   ]
  },
  {
   "cell_type": "markdown",
   "metadata": {},
   "source": [
    "5. How can you use the `filter()` function to remove None values from a list in Python?"
   ]
  },
  {
   "cell_type": "code",
   "execution_count": 72,
   "metadata": {},
   "outputs": [
    {
     "name": "stdout",
     "output_type": "stream",
     "text": [
      "Filtered values: [1, 2, 3, 4, 5]\n"
     ]
    }
   ],
   "source": [
    "values = [1, None, 2, None, 3, None, 4, None, 5]\n",
    "filtered_values = list(filter(lambda x: x is not None, values))\n",
    "\n",
    "print(\"Filtered values:\", filtered_values)\n"
   ]
  },
  {
   "cell_type": "markdown",
   "metadata": {},
   "source": [
    "6. Create a Python program that uses `filter()` to select words longer than a certain length from a list of strings."
   ]
  },
  {
   "cell_type": "code",
   "execution_count": 73,
   "metadata": {},
   "outputs": [
    {
     "name": "stdout",
     "output_type": "stream",
     "text": [
      "Words longer than 5 characters: ['banana', 'orange', 'pineapple']\n"
     ]
    }
   ],
   "source": [
    "words = [\"apple\", \"banana\", \"orange\", \"grape\", \"kiwi\", \"pineapple\"]\n",
    "min_length = 5\n",
    "selected_words = list(filter(lambda word: len(word) > min_length, words))\n",
    "\n",
    "print(\"Words longer than\", min_length, \"characters:\", selected_words)\n"
   ]
  },
  {
   "cell_type": "markdown",
   "metadata": {},
   "source": [
    "7. Write a Python program that uses the `filter()` function to select elements greater than a specified threshold from a list of values."
   ]
  },
  {
   "cell_type": "code",
   "execution_count": 74,
   "metadata": {},
   "outputs": [
    {
     "name": "stdout",
     "output_type": "stream",
     "text": [
      "Values greater than 20 : [25, 30]\n"
     ]
    }
   ],
   "source": [
    "values = [10, 25, 5, 30, 15, 20]\n",
    "threshold = 20\n",
    "selected_values = list(filter(lambda x: x > threshold, values))\n",
    "\n",
    "print(\"Values greater than\", threshold, \":\", selected_values)\n"
   ]
  },
  {
   "cell_type": "markdown",
   "metadata": {},
   "source": [
    "Recursion:-"
   ]
  },
  {
   "cell_type": "markdown",
   "metadata": {},
   "source": [
    "1. Explain the concept of recursion in Python. How does it differ from iteration?"
   ]
  },
  {
   "cell_type": "code",
   "execution_count": null,
   "metadata": {},
   "outputs": [],
   "source": [
    "''' Recursion and iteration are two fundamental concepts in programming used for repetitive tasks, such as solving problems or traversing\n",
    "data structures.\n",
    "\n",
    "Recursion:\n",
    "Recursion is a programming technique in which a function calls itself in order to solve a problem. A recursive function typically breaks down \n",
    "a problem into smaller, similar subproblems and solves each subproblem recursively until reaching a base case, which is a terminating condition \n",
    "where the function does not call itself again. Recursive functions consist of two main parts: the base case and the recursive case.\n",
    "\n",
    "Iteration:\n",
    "Iteration, on the other hand, involves repeatedly executing a set of instructions until a certain condition is met. It uses loops, such as for \n",
    "and while loops, to iterate over a sequence of elements or perform a task a specific number of times.\n",
    "\n",
    "\n",
    "Differences:\n",
    "\n",
    "Control Flow: In recursion, the control flows back to the beginning of the function with a new set of parameters, while in iteration, \n",
    "the control flows back to the beginning of the loop.\n",
    "\n",
    "Termination: Recursion relies on a base case to terminate the function calls, whereas iteration typically relies on a condition to terminate \n",
    "the loop.\n",
    "\n",
    "Space Complexity: Recursion may consume more memory due to the call stack, as each function call requires additional space on the call stack. \n",
    "In contrast, iteration often has a lower space complexity because it doesn't involve additional function calls.\n",
    "\n",
    "Readability: Recursion can sometimes lead to more concise and elegant solutions for certain problems, especially those that naturally lend \n",
    "themselves to recursive approaches. However, it can also be harder to understand for beginners compared to iterative solutions.\n",
    "\n",
    "Both recursion and iteration are important concepts in programming, and the choice between them often depends on the problem being solved and \n",
    "personal preference.'''"
   ]
  },
  {
   "cell_type": "markdown",
   "metadata": {},
   "source": [
    "2. Write a Python program to calculate the factorial of a number using recursion.\n"
   ]
  },
  {
   "cell_type": "code",
   "execution_count": 76,
   "metadata": {},
   "outputs": [
    {
     "name": "stdout",
     "output_type": "stream",
     "text": [
      "The factorial of 3 is 6.\n"
     ]
    }
   ],
   "source": [
    "def factorial(n):\n",
    "    if n < 0:\n",
    "        raise ValueError(\"Factorial is not defined for negative numbers.\")\n",
    "    elif n == 0 or n == 1:\n",
    "        return 1\n",
    "    else:\n",
    "        return n * factorial(n - 1)\n",
    "if __name__ == \"__main__\":\n",
    "    number = int(input(\"Enter a number to calculate its factorial: \"))\n",
    "    try:\n",
    "        result = factorial(number)\n",
    "        print(f\"The factorial of {number} is {result}.\")\n",
    "    except ValueError as e:\n",
    "        print(e)\n"
   ]
  },
  {
   "cell_type": "markdown",
   "metadata": {},
   "source": [
    "3. Create a recursive Python function to find the nth Fibonacci number."
   ]
  },
  {
   "cell_type": "code",
   "execution_count": 77,
   "metadata": {},
   "outputs": [
    {
     "name": "stdout",
     "output_type": "stream",
     "text": [
      "The Fibonacci number at position 6 is 8.\n"
     ]
    }
   ],
   "source": [
    "def fibonacci(n):\n",
    "    if n < 0:\n",
    "        raise ValueError(\"Fibonacci number is not defined for negative indices.\")\n",
    "    elif n == 0:\n",
    "        return 0\n",
    "    elif n == 1:\n",
    "        return 1\n",
    "    else:\n",
    "        return fibonacci(n - 1) + fibonacci(n - 2)\n",
    "\n",
    "if __name__ == \"__main__\":\n",
    "    number = int(input(\"Enter the position of the Fibonacci number to calculate: \"))\n",
    "    try:\n",
    "        result = fibonacci(number)\n",
    "        print(f\"The Fibonacci number at position {number} is {result}.\")\n",
    "    except ValueError as e:\n",
    "        print(e)\n"
   ]
  },
  {
   "cell_type": "markdown",
   "metadata": {},
   "source": [
    "4. Write a recursive Python function to calculate the sum of all elements in a list.\n"
   ]
  },
  {
   "cell_type": "code",
   "execution_count": 79,
   "metadata": {},
   "outputs": [
    {
     "name": "stdout",
     "output_type": "stream",
     "text": [
      "The sum of all elements in the list is 15.\n"
     ]
    }
   ],
   "source": [
    "def recursive_sum(lst):\n",
    "    if len(lst) == 0:\n",
    "        return 0\n",
    "    else:\n",
    "        return lst[0] + recursive_sum(lst[1:])\n",
    "if __name__ == \"__main__\":\n",
    "    numbers = [1, 2, 3, 4, 5]  \n",
    "    result = recursive_sum(numbers)\n",
    "    print(f\"The sum of all elements in the list is {result}.\")\n"
   ]
  },
  {
   "cell_type": "markdown",
   "metadata": {},
   "source": [
    "5. How can you prevent a recursive function from running indefinitely, causing a stack overflow error?"
   ]
  },
  {
   "cell_type": "code",
   "execution_count": null,
   "metadata": {},
   "outputs": [],
   "source": [
    "''' To prevent a recursive function from running indefinitely and causing a stack overflow error, you can ensure the function has a proper \n",
    "base case that will eventually be met, stopping the recursion. Here are some strategies and best practices to avoid infinite recursion:\n",
    "\n",
    "(1) Base Case: Make sure your recursive function has a clear and correct base case. The base case is a condition under which the function \n",
    "will stop calling itself.\n",
    "\n",
    "(2) Recursive Step: Ensure that each recursive call progresses towards the base case. This usually involves modifying the function’s \n",
    "parameters in a way that moves closer to the base case.\n",
    "\n",
    "(3) Input Validation: Add input validation to handle unexpected or invalid inputs that could lead to infinite recursion.\n",
    "\n",
    "(4) Maximum Depth: Optionally, you can limit the depth of recursion by adding a maximum recursion depth check.'''\n",
    "\n"
   ]
  },
  {
   "cell_type": "markdown",
   "metadata": {},
   "source": [
    "6. Create a recursive Python function to find the greatest common divisor (GCD) of two numbers using the Euclidean algorithm."
   ]
  },
  {
   "cell_type": "code",
   "execution_count": 80,
   "metadata": {},
   "outputs": [
    {
     "name": "stdout",
     "output_type": "stream",
     "text": [
      "The GCD of 6 and 8 is 2.\n"
     ]
    }
   ],
   "source": [
    "def gcd(a, b):\n",
    "    if b == 0:\n",
    "        return a\n",
    "    else:\n",
    "        return gcd(b, a % b)\n",
    "if __name__ == \"__main__\":\n",
    "    try:\n",
    "        num1 = int(input(\"Enter the first number: \"))\n",
    "        num2 = int(input(\"Enter the second number: \"))\n",
    "        result = gcd(num1, num2)\n",
    "        print(f\"The GCD of {num1} and {num2} is {result}.\")\n",
    "    except ValueError:\n",
    "        print(\"Please enter valid integers.\")\n"
   ]
  },
  {
   "cell_type": "markdown",
   "metadata": {},
   "source": [
    "7. Write a recursive Python function to reverse a string."
   ]
  },
  {
   "cell_type": "code",
   "execution_count": 81,
   "metadata": {},
   "outputs": [
    {
     "name": "stdout",
     "output_type": "stream",
     "text": [
      "The reversed string is: kehsihba\n"
     ]
    }
   ],
   "source": [
    "def reverse_string(s):\n",
    "    if len(s) == 0:\n",
    "        return s\n",
    "    else:\n",
    "        return s[-1] + reverse_string(s[:-1])\n",
    "if __name__ == \"__main__\":\n",
    "    string_to_reverse = input(\"Enter a string to reverse: \")\n",
    "    reversed_string = reverse_string(string_to_reverse)\n",
    "    print(f\"The reversed string is: {reversed_string}\")\n"
   ]
  },
  {
   "cell_type": "markdown",
   "metadata": {},
   "source": [
    "8. Create a recursive Python function to calculate the power of a number (x^n).\n"
   ]
  },
  {
   "cell_type": "code",
   "execution_count": 82,
   "metadata": {},
   "outputs": [
    {
     "name": "stdout",
     "output_type": "stream",
     "text": [
      "6.0 raised to the power of 4 is 1296.0.\n"
     ]
    }
   ],
   "source": [
    "def power(x, n):\n",
    "    if n < 0:\n",
    "        return 1 / power(x, -n)\n",
    "    elif n == 0:\n",
    "        return 1\n",
    "    elif n == 1:\n",
    "        return x\n",
    "    else:\n",
    "        return x * power(x, n - 1)\n",
    "if __name__ == \"__main__\":\n",
    "    try:\n",
    "        base = float(input(\"Enter the base number (x): \"))\n",
    "        exponent = int(input(\"Enter the exponent (n): \"))\n",
    "        result = power(base, exponent)\n",
    "        print(f\"{base} raised to the power of {exponent} is {result}.\")\n",
    "    except ValueError:\n",
    "        print(\"Please enter valid numbers for the base and the exponent.\")\n"
   ]
  },
  {
   "cell_type": "markdown",
   "metadata": {},
   "source": [
    "9. Write a recursive Python function to find all permutations of a given string."
   ]
  },
  {
   "cell_type": "code",
   "execution_count": 84,
   "metadata": {},
   "outputs": [
    {
     "name": "stdout",
     "output_type": "stream",
     "text": [
      "All permutations of the string 'rat' are: ['rat', 'rta', 'art', 'atr', 'tra', 'tar']\n"
     ]
    }
   ],
   "source": [
    "def permutations(s):\n",
    "    if len(s) == 1:\n",
    "        return [s]\n",
    "    \n",
    "    perms = []\n",
    "    for i, char in enumerate(s):\n",
    "        remaining = s[:i] + s[i+1:]\n",
    "        for perm in permutations(remaining):\n",
    "            perms.append(char + perm)\n",
    "    \n",
    "    return perms\n",
    "if __name__ == \"__main__\":\n",
    "    input_string = input(\"Enter a string to find its permutations: \")\n",
    "    result = permutations(input_string)\n",
    "    print(f\"All permutations of the string '{input_string}' are: {result}\")\n"
   ]
  },
  {
   "cell_type": "markdown",
   "metadata": {},
   "source": [
    "10. Write a recursive Python function to check if a string is a palindrome."
   ]
  },
  {
   "cell_type": "code",
   "execution_count": 85,
   "metadata": {},
   "outputs": [
    {
     "name": "stdout",
     "output_type": "stream",
     "text": [
      "'level' is a palindrome.\n"
     ]
    }
   ],
   "source": [
    "def is_palindrome(s):\n",
    "    if len(s) <= 1:\n",
    "        return True\n",
    "    if s[0] != s[-1]:\n",
    "        return False\n",
    "    return is_palindrome(s[1:-1])\n",
    "if __name__ == \"__main__\":\n",
    "    input_string = input(\"Enter a string to check if it is a palindrome: \")\n",
    "    if is_palindrome(input_string):\n",
    "        print(f\"'{input_string}' is a palindrome.\")\n",
    "    else:\n",
    "        print(f\"'{input_string}' is not a palindrome.\")\n"
   ]
  },
  {
   "cell_type": "markdown",
   "metadata": {},
   "source": [
    "11. Create a recursive Python function to generate all possible combinations of a list of elements."
   ]
  },
  {
   "cell_type": "code",
   "execution_count": 87,
   "metadata": {},
   "outputs": [
    {
     "name": "stdout",
     "output_type": "stream",
     "text": [
      "All possible combinations of the list are: [['2', '4', '6'], ['2', '4'], ['2', '6'], ['2'], ['4', '6'], ['4'], ['6'], []]\n"
     ]
    }
   ],
   "source": [
    "def combinations(lst):\n",
    "    if len(lst) == 0:\n",
    "        return [[]]\n",
    "    \n",
    "    first_element = lst[0]\n",
    "    rest_combinations = combinations(lst[1:])\n",
    "    \n",
    "    with_first = [[first_element] + comb for comb in rest_combinations]\n",
    "    \n",
    "    return with_first + rest_combinations\n",
    "if __name__ == \"__main__\":\n",
    "    input_list = input(\"Enter a list of elements separated by spaces: \").split()\n",
    "    all_combinations = combinations(input_list)\n",
    "    print(f\"All possible combinations of the list are: {all_combinations}\")\n"
   ]
  },
  {
   "cell_type": "markdown",
   "metadata": {},
   "source": [
    "Basics of Functions:"
   ]
  },
  {
   "cell_type": "markdown",
   "metadata": {},
   "source": [
    "1. What is a function in Python, and why is it used?"
   ]
  },
  {
   "cell_type": "code",
   "execution_count": null,
   "metadata": {},
   "outputs": [],
   "source": [
    "''' A function in Python is a block of organized, reusable code that is used to perform a single, related action. Functions provide better \n",
    "modularity for your application and a high degree of code reusability. In Python, functions are defined using the def keyword, followed by \n",
    "the function name and parentheses () which may include parameters.\n",
    "\n",
    "- Key Features of Functions in Python:\n",
    "Modularity: Functions allow you to break down complex problems into smaller, manageable parts. Each function can focus on a single task.\n",
    "Reusability: Once a function is defined, it can be reused in different parts of a program or in different programs without rewriting the code.\n",
    "Readability: Well-named functions with a clear purpose can make code easier to read and understand.\n",
    "Maintenance: Functions help in maintaining and updating the code. Changes can be made in one place (the function definition) and will be \n",
    "reflected wherever the function is called.\n",
    "\n",
    "- Why Use Functions?\n",
    "Avoid Repetition: Reduces redundancy by allowing you to reuse code blocks.\n",
    "Encapsulation: Groups related code into a single, callable unit.\n",
    "Abstraction: Simplifies complex code by hiding implementation details.\n",
    "Testing: Makes it easier to test and debug individual components of the program.\n",
    "Functions are a fundamental concept in Python programming, and understanding how to create and use them effectively is crucial for writing clean, \n",
    "efficient, and maintainable code.'''"
   ]
  },
  {
   "cell_type": "markdown",
   "metadata": {},
   "source": [
    "2. How do you define a function in Python? Provide an example."
   ]
  },
  {
   "cell_type": "code",
   "execution_count": 88,
   "metadata": {},
   "outputs": [
    {
     "name": "stdout",
     "output_type": "stream",
     "text": [
      "Hello, Alice!\n"
     ]
    }
   ],
   "source": [
    "''' To define a function in Python, you use the def keyword, followed by the function name, parentheses () which may include parameters, and a \n",
    "colon :. The body of the function contains the code to be executed and is indented.\n",
    "\n",
    "Here's the basic syntax to define a function: '''\n",
    "\n",
    "def greet(name):\n",
    "    \"\"\"\n",
    "    This function greets the person whose name is passed as a parameter.\n",
    "    \"\"\"\n",
    "    print(f\"Hello, {name}!\")\n",
    "\n",
    "# Calling the function\n",
    "greet(\"Alice\")  # Output: Hello, Alice!"
   ]
  },
  {
   "cell_type": "markdown",
   "metadata": {},
   "source": [
    "3. Explain the difference between a function definition and a function call.\n"
   ]
  },
  {
   "cell_type": "code",
   "execution_count": null,
   "metadata": {},
   "outputs": [],
   "source": [
    "''' The difference between a function definition and a function call in Python lies in their purposes and how they are used in a program.\n",
    "\n",
    "Function Definition\n",
    "A function definition is where you specify what a function does. It includes the function's name, parameters (if any), and the block of code \n",
    "that executes when the function is called. The function definition does not execute the function; it only defines what the function will do \n",
    "when it is called.\n",
    "\n",
    "Function Call\n",
    "A function call is where you execute the function that has been defined. This involves using the function's name followed by parentheses () \n",
    "that may include arguments matching the parameters defined in the function. When the function call is made, the control of the program shifts \n",
    "to the function's code block, executes it, and then returns to the point where the function was called.\n",
    "\n",
    "Key Differences\n",
    "Purpose:\n",
    "Function Definition: Specifies what the function does and how it does it.\n",
    "Function Call: Executes the function and performs the specified task.\n",
    "\n",
    "Location in Code:\n",
    "Function Definition: Usually placed at the beginning of a script or module or within a class. It only needs to be defined once.\n",
    "Function Call: Can be placed anywhere in the code where you need to use the function. It can be called multiple times.\n",
    "\n",
    "Execution:\n",
    "Function Definition: Does not execute the code within the function body. It merely declares what the function is and what it should do.\n",
    "Function Call: Executes the code within the function body and may return a result.\n",
    "\n",
    "Syntax:\n",
    "Function Definition: Uses the def keyword and includes the function name, parameters, and the code block.\n",
    "Function Call: Uses the function name followed by parentheses that may include arguments.\n",
    "'''"
   ]
  },
  {
   "cell_type": "markdown",
   "metadata": {},
   "source": [
    "4. Write a Python program that defines a function to calculate the sum of two numbers and then calls the function"
   ]
  },
  {
   "cell_type": "code",
   "execution_count": 89,
   "metadata": {},
   "outputs": [
    {
     "name": "stdout",
     "output_type": "stream",
     "text": [
      "The sum of 10 and 20 is 30.\n"
     ]
    }
   ],
   "source": [
    "# Function definition\n",
    "def add_numbers(a, b):\n",
    "    \"\"\"\n",
    "    This function takes two numbers and returns their sum.\n",
    "    \"\"\"\n",
    "    return a + b\n",
    "\n",
    "# Calling the function\n",
    "num1 = 10\n",
    "num2 = 20\n",
    "result = add_numbers(num1, num2)\n",
    "\n",
    "# Output the result\n",
    "print(f\"The sum of {num1} and {num2} is {result}.\")"
   ]
  },
  {
   "cell_type": "markdown",
   "metadata": {},
   "source": [
    "5. What is a function signature, and what information does it typically include?"
   ]
  },
  {
   "cell_type": "code",
   "execution_count": null,
   "metadata": {},
   "outputs": [],
   "source": [
    "''' A function signature in Python refers to the part of the function definition that includes the function name, the parameters (also \n",
    "known as arguments) the function accepts, and optionally, the return type. The function signature provides a summary of how the function \n",
    "should be called and what inputs it requires.\n",
    "\n",
    "- Information Included in a Function Signature\n",
    "\n",
    "(1)Function Name: add_numbers\n",
    "\n",
    "(2)Parameters:\n",
    "a: An integer parameter.\n",
    "b: An integer parameter.\n",
    "\n",
    "(3)Return Type: The function is expected to return an integer, indicated by -> int.\n",
    "'''"
   ]
  },
  {
   "cell_type": "markdown",
   "metadata": {},
   "source": [
    "6. Create a Python function that takes two arguments and returns their product."
   ]
  },
  {
   "cell_type": "code",
   "execution_count": 90,
   "metadata": {},
   "outputs": [
    {
     "name": "stdout",
     "output_type": "stream",
     "text": [
      "The product of 6 and 7 is 42.\n"
     ]
    }
   ],
   "source": [
    "# Function definition\n",
    "def multiply(a, b):\n",
    "    \"\"\"\n",
    "    This function takes two arguments and returns their product.\n",
    "    \"\"\"\n",
    "    return a * b\n",
    "\n",
    "# Example usage\n",
    "num1 = 6\n",
    "num2 = 7\n",
    "result = multiply(num1, num2)\n",
    "\n",
    "# Output the result\n",
    "print(f\"The product of {num1} and {num2} is {result}.\")"
   ]
  },
  {
   "cell_type": "markdown",
   "metadata": {},
   "source": [
    "Function Parameters and Arguments:"
   ]
  },
  {
   "cell_type": "markdown",
   "metadata": {},
   "source": [
    "1. Explain the concepts of formal parameters and actual arguments in Python functions."
   ]
  },
  {
   "cell_type": "code",
   "execution_count": null,
   "metadata": {},
   "outputs": [],
   "source": [
    "''' In Python functions, the concepts of formal parameters and actual arguments refer to the variables used in the function definition and \n",
    "the values provided when calling the function, respectively. Understanding these concepts is crucial for correctly passing and handling \n",
    "data in functions.\n",
    "\n",
    "Formal Parameters\n",
    "Formal parameters (also known simply as parameters) are the variables listed inside the parentheses in the function definition. They act as \n",
    "placeholders for the values that will be passed to the function when it is called. These parameters allow the function to accept input and \n",
    "operate on it. \n",
    "\n",
    "Example:\n",
    "'''\n",
    "def add(a, b):\n",
    "    \"\"\"\n",
    "    This function takes two formal parameters, a and b,\n",
    "    and returns their sum.\n",
    "    \"\"\"\n",
    "    return a + b\n",
    "\n",
    "\n",
    "''' In this example:\n",
    "\n",
    "a and b are formal parameters.\n",
    "They are placeholders for the values that will be provided when the function add is called.\n",
    "\n",
    "\n",
    "Actual Arguments\n",
    "Actual arguments (also known simply as arguments) are the real values or variables that you pass to the function when you call it. These \n",
    "arguments replace the formal parameters in the function definition and are used by the function to perform its operations.\n",
    "\n",
    "Example:'''\n",
    "\n",
    "result = add(5, 3)\n",
    "\n",
    "'''In this example:\n",
    "5 and 3 are actual arguments.\n",
    "When the function add is called, 5 is passed to the formal parameter a, and 3 is passed to the formal parameter b.\n",
    "The function then computes the sum using these values.'''\n",
    "\n",
    "''' Relationship Between Formal Parameters and Actual Arguments :\n",
    "When a function is called, the actual arguments are matched with the formal parameters in the function definition. The values of the actual \n",
    "arguments are assigned to the corresponding formal parameters, and the function uses these values to execute its code.'''"
   ]
  },
  {
   "cell_type": "markdown",
   "metadata": {},
   "source": [
    "2. Write a Python program that defines a function with default argument values."
   ]
  },
  {
   "cell_type": "code",
   "execution_count": 91,
   "metadata": {},
   "outputs": [
    {
     "name": "stdout",
     "output_type": "stream",
     "text": [
      "Total cost with tax: $105.00\n",
      "Total cost without tax: $100.00\n"
     ]
    }
   ],
   "source": [
    "def calculate_total(price, quantity, sales_tax=0):\n",
    "    \"\"\"\n",
    "    This function calculates the total cost of items.\n",
    "    Parameters:\n",
    "    - price: The price of a single item.\n",
    "    - quantity: The number of items.\n",
    "    - sales_tax: The sales tax percentage (default is 0).\n",
    "    \n",
    "    Returns the total cost including sales tax.\n",
    "    \"\"\"\n",
    "    subtotal = price * quantity\n",
    "    total_cost = subtotal + (subtotal * sales_tax / 100)\n",
    "    return total_cost\n",
    "total_with_tax = calculate_total(50, 2, 5)\n",
    "print(f\"Total cost with tax: ${total_with_tax:.2f}\")\n",
    "total_without_tax = calculate_total(50, 2)\n",
    "print(f\"Total cost without tax: ${total_without_tax:.2f}\")\n"
   ]
  },
  {
   "cell_type": "markdown",
   "metadata": {},
   "source": [
    "3. How do you use keyword arguments in Python function calls? Provide an example."
   ]
  },
  {
   "cell_type": "code",
   "execution_count": 93,
   "metadata": {},
   "outputs": [
    {
     "name": "stdout",
     "output_type": "stream",
     "text": [
      "Volume with length=5, width=3, height=2: 30\n",
      "Volume with height=4, length=6, width=2: 48\n"
     ]
    }
   ],
   "source": [
    "'''In Python, you can use keyword arguments to call functions by explicitly specifying the names of the parameters and their corresponding values. \n",
    "This allows you to pass arguments to a function in a way that is clear and unambiguous, and it can also improve the readability of your code. \n",
    "Additionally, keyword arguments allow you to skip some arguments and use their default values if they are defined in the function.\n",
    "\n",
    "Example of Using Keyword Arguments'''\n",
    "\n",
    "# Function definition\n",
    "def calculate_volume(length, width, height):\n",
    "    \"\"\"\n",
    "    This function calculates the volume of a rectangular prism.\n",
    "    Parameters:\n",
    "    - length: The length of the prism.\n",
    "    - width: The width of the prism.\n",
    "    - height: The height of the prism.\n",
    "    \n",
    "    Returns the volume of the prism.\n",
    "    \"\"\"\n",
    "    return length * width * height\n",
    "\n",
    "# Calling the function with keyword arguments\n",
    "volume1 = calculate_volume(length=5, width=3, height=2)\n",
    "print(f\"Volume with length=5, width=3, height=2: {volume1}\")\n",
    "\n",
    "# Calling the function with keyword arguments in a different order\n",
    "volume2 = calculate_volume(height=4, length=6, width=2)\n",
    "print(f\"Volume with height=4, length=6, width=2: {volume2}\")"
   ]
  },
  {
   "cell_type": "markdown",
   "metadata": {},
   "source": [
    "4. Create a Python function that accepts a variable number of arguments and calculates their sum."
   ]
  },
  {
   "cell_type": "code",
   "execution_count": 94,
   "metadata": {},
   "outputs": [
    {
     "name": "stdout",
     "output_type": "stream",
     "text": [
      "Sum: 15\n",
      "Sum: 60\n"
     ]
    }
   ],
   "source": [
    "def calculate_sum(*args):\n",
    "    \"\"\"\n",
    "    This function accepts any number of arguments and calculates their sum.\n",
    "    \"\"\"\n",
    "    total = 0\n",
    "    for num in args:\n",
    "        total += num\n",
    "    return total\n",
    "\n",
    "# Example usage\n",
    "result1 = calculate_sum(1, 2, 3, 4, 5)\n",
    "print(\"Sum:\", result1)  # Output: Sum: 15\n",
    "\n",
    "result2 = calculate_sum(10, 20, 30)\n",
    "print(\"Sum:\", result2)  # Output: Sum: 60"
   ]
  },
  {
   "cell_type": "markdown",
   "metadata": {},
   "source": [
    "5. What is the purpose of the `*args` and `**kwargs` syntax in function parameter lists?"
   ]
  },
  {
   "cell_type": "code",
   "execution_count": null,
   "metadata": {},
   "outputs": [],
   "source": [
    "''' The *args and **kwargs syntax in Python is used to allow functions to accept an arbitrary number of arguments. This provides flexibility \n",
    "in function calls, enabling the creation of functions that can handle a varying number of inputs.\n",
    "\n",
    "*args\n",
    "The *args syntax is used to pass a variable number of non-keyword arguments to a function. It allows you to pass a list or tuple of arguments \n",
    "to the function, which can then be processed inside the function.\n",
    "\n",
    "**kwargs\n",
    "The **kwargs syntax is used to pass a variable number of keyword arguments to a function. It allows you to pass a dictionary of keyword arguments \n",
    "to the function.\n",
    "\n",
    "'''"
   ]
  },
  {
   "cell_type": "markdown",
   "metadata": {},
   "source": [
    "Return Values and Scoping:"
   ]
  },
  {
   "cell_type": "markdown",
   "metadata": {},
   "source": [
    "1. Describe the role of the `return` statement in Python functions and provide examples."
   ]
  },
  {
   "cell_type": "code",
   "execution_count": 95,
   "metadata": {},
   "outputs": [
    {
     "name": "stdout",
     "output_type": "stream",
     "text": [
      "16\n"
     ]
    }
   ],
   "source": [
    "''' The return statement in Python functions is used to exit a function and pass back a value to the caller. When a function reaches a return \n",
    "statement, it stops executing and sends the specified value (or values) back to the caller. If no value is specified, the function returns \n",
    "None by default.\n",
    "\n",
    "Key Roles of the return Statement\n",
    "Exiting the Function: The return statement immediately terminates the function's execution.\n",
    "Returning a Value: It specifies what value should be sent back to the caller of the function.\n",
    "Conditional Return: It can be used to return different values based on certain conditions within the function.\n",
    "\n",
    "Examples\n",
    "Example 1: Returning a Single Value\n",
    "\n",
    "Here's a simple example of a function that returns the square of a number:\n",
    "'''\n",
    "\n",
    "def square(x):\n",
    "    \"\"\"\n",
    "    This function returns the square of the input number.\n",
    "    \"\"\"\n",
    "    return x * x\n",
    "\n",
    "# Example usage\n",
    "result = square(4)\n",
    "print(result)  # Output: 16"
   ]
  },
  {
   "cell_type": "markdown",
   "metadata": {},
   "source": [
    "2. Explain the concept of variable scope in Python, including local and global variables."
   ]
  },
  {
   "cell_type": "code",
   "execution_count": null,
   "metadata": {},
   "outputs": [],
   "source": [
    "''' Variable scope in Python refers to the region of the code where a variable is defined and can be accessed. Understanding variable scope is \n",
    "crucial for writing predictable and bug-free code. Python variables can be classified into two main types based on their scope: local variables \n",
    "and global variables.\n",
    "\n",
    "Local Variables\n",
    "Local variables are variables that are defined within a function and can only be accessed within that function. They exist only for the duration \n",
    "of the function's execution. Once the function finishes executing, local variables are destroyed.\n",
    "\n",
    "Global Variables\n",
    "Global variables are variables that are defined outside of any function and can be accessed from anywhere in the code. They exist for the \n",
    "lifetime of the program.\n",
    "\n",
    "Local vs. Global Scope\n",
    "Local Scope: Variables declared inside a function. They can only be used within that function.\n",
    "Global Scope: Variables declared outside any function. They can be used throughout the entire program.\n",
    "'''"
   ]
  },
  {
   "cell_type": "markdown",
   "metadata": {},
   "source": [
    "3. Write a Python program that demonstrates the use of global variables within functions."
   ]
  },
  {
   "cell_type": "code",
   "execution_count": 96,
   "metadata": {},
   "outputs": [
    {
     "name": "stdout",
     "output_type": "stream",
     "text": [
      "Initial counter value: 0\n",
      "Counter inside increment function: 1\n",
      "Counter after incrementing: 1\n",
      "Counter inside increment function: 2\n",
      "Counter after another increment: 2\n",
      "Counter inside reset function: 0\n",
      "Counter after reset: 0\n"
     ]
    }
   ],
   "source": [
    "# Global variable\n",
    "counter = 0\n",
    "\n",
    "def increment():\n",
    "    \"\"\"\n",
    "    This function increments the global variable 'counter' by 1.\n",
    "    \"\"\"\n",
    "    global counter  # Declare that we are using the global variable 'counter'\n",
    "    counter += 1\n",
    "    print(f\"Counter inside increment function: {counter}\")\n",
    "\n",
    "def reset():\n",
    "    \"\"\"\n",
    "    This function resets the global variable 'counter' to 0.\n",
    "    \"\"\"\n",
    "    global counter  # Declare that we are using the global variable 'counter'\n",
    "    counter = 0\n",
    "    print(f\"Counter inside reset function: {counter}\")\n",
    "\n",
    "# Demonstrating the use of global variables\n",
    "print(f\"Initial counter value: {counter}\")\n",
    "\n",
    "increment()  # Increment the counter\n",
    "print(f\"Counter after incrementing: {counter}\")\n",
    "\n",
    "increment()  # Increment the counter again\n",
    "print(f\"Counter after another increment: {counter}\")\n",
    "\n",
    "reset()  # Reset the counter\n",
    "print(f\"Counter after reset: {counter}\")"
   ]
  },
  {
   "cell_type": "markdown",
   "metadata": {},
   "source": [
    "4. Create a Python function that calculates the factorial of a number and returns it."
   ]
  },
  {
   "cell_type": "code",
   "execution_count": 97,
   "metadata": {},
   "outputs": [
    {
     "name": "stdout",
     "output_type": "stream",
     "text": [
      "Factorial of 5 is: 120\n"
     ]
    }
   ],
   "source": [
    "def factorial(n):\n",
    "    \"\"\"\n",
    "    This function calculates the factorial of a given number using recursion.\n",
    "    \n",
    "    Parameters:\n",
    "    n (int): The number for which to calculate the factorial.\n",
    "    \n",
    "    Returns:\n",
    "    int: The factorial of the given number.\n",
    "    \"\"\"\n",
    "    if n < 0:\n",
    "        raise ValueError(\"Factorial is not defined for negative numbers.\")\n",
    "    elif n == 0 or n == 1:\n",
    "        return 1\n",
    "    else:\n",
    "        return n * factorial(n - 1)\n",
    "\n",
    "# Example usage\n",
    "try:\n",
    "    result = factorial(5)\n",
    "    print(f\"Factorial of 5 is: {result}\")  # Output: Factorial of 5 is: 120\n",
    "except ValueError as e:\n",
    "    print(e)\n"
   ]
  },
  {
   "cell_type": "markdown",
   "metadata": {},
   "source": [
    "5. How can you access variables defined outside a function from within the function?"
   ]
  },
  {
   "cell_type": "code",
   "execution_count": 98,
   "metadata": {},
   "outputs": [
    {
     "name": "stdout",
     "output_type": "stream",
     "text": [
      "Initial counter value: 0\n",
      "Initial message: Hello, World!\n",
      "Counter inside increment_counter: 1\n",
      "Message inside print_message: Hello, World!\n",
      "Counter after increment_counter: 1\n",
      "Message remains unchanged: Hello, World!\n"
     ]
    }
   ],
   "source": [
    "''' Local Variables cannot be accessed outside the function but Global Variables can be accessed within the function. Also, we can use a Global\n",
    " Keyword to access the local variables outside the function. If the variable is declared within the nested function then we can use keyword \n",
    " nonlocal in python.'''\n",
    "\n",
    "# Global variables\n",
    "counter = 0\n",
    "message = \"Hello, World!\"\n",
    "\n",
    "def increment_counter():\n",
    "    global counter\n",
    "    counter += 1\n",
    "    print(f\"Counter inside increment_counter: {counter}\")\n",
    "\n",
    "def print_message():\n",
    "    print(f\"Message inside print_message: {message}\")\n",
    "\n",
    "# Initial values\n",
    "print(f\"Initial counter value: {counter}\")  # Output: Initial counter value: 0\n",
    "print(f\"Initial message: {message}\")        # Output: Initial message: Hello, World!\n",
    "\n",
    "# Function calls\n",
    "increment_counter()  # Output: Counter inside increment_counter: 1\n",
    "print_message()      # Output: Message inside print_message: Hello, World!\n",
    "\n",
    "# Values after function calls\n",
    "print(f\"Counter after increment_counter: {counter}\")  # Output: Counter after increment_counter: 1\n",
    "print(f\"Message remains unchanged: {message}\")        # Output: Message remains unchanged: Hello, World!"
   ]
  },
  {
   "cell_type": "markdown",
   "metadata": {},
   "source": [
    "Lambda Functions and Higher-Order Functions:\n"
   ]
  },
  {
   "cell_type": "markdown",
   "metadata": {},
   "source": [
    "1. What are lambda functions in Python, and when are they typically used?"
   ]
  },
  {
   "cell_type": "code",
   "execution_count": 99,
   "metadata": {},
   "outputs": [
    {
     "name": "stdout",
     "output_type": "stream",
     "text": [
      "15\n"
     ]
    }
   ],
   "source": [
    "''' Lambda functions in Python are small anonymous functions defined with the lambda keyword. They can have any number of arguments but only \n",
    "one expression. Lambda functions are typically used for short, simple operations or when you need a function for a short period, often as \n",
    "arguments to higher-order functions like map, filter, and sorted.\n",
    "\n",
    "Syntax\n",
    "lambda arguments: expression\n",
    "\n",
    "Characteristics\n",
    "Anonymous: Lambda functions do not have a name (hence \"anonymous\").\n",
    "Single Expression: Lambda functions are limited to a single expression. They cannot contain multiple expressions or statements.\n",
    "Inline Definition: Lambda functions are often defined inline where they are needed.\n",
    "\n",
    "\n",
    "Usage\n",
    "Lambda functions are commonly used in situations where a simple function is needed for a short time, such as in functional programming constructs\n",
    " or when defining short callback functions.\n",
    "'''\n",
    "\n",
    "# A lambda function that adds 10 to a given number\n",
    "add_ten = lambda x: x + 10\n",
    "print(add_ten(5))  # Output: 15\n"
   ]
  },
  {
   "cell_type": "markdown",
   "metadata": {},
   "source": [
    "2. Write a Python program that uses lambda functions to sort a list of tuples based on the second element.\n"
   ]
  },
  {
   "cell_type": "code",
   "execution_count": 100,
   "metadata": {},
   "outputs": [
    {
     "name": "stdout",
     "output_type": "stream",
     "text": [
      "Sorted list based on the second element:\n",
      "[(1, 'apple'), (3, 'banana'), (2, 'cherry'), (4, 'date')]\n"
     ]
    }
   ],
   "source": [
    "data = [(1, 'apple'), (3, 'banana'), (2, 'cherry'), (4, 'date')]\n",
    "sorted_data = sorted(data, key=lambda x: x[1])\n",
    "print(\"Sorted list based on the second element:\")\n",
    "print(sorted_data)"
   ]
  },
  {
   "cell_type": "markdown",
   "metadata": {},
   "source": [
    "3. Explain the concept of higher-order functions in Python, and provide an example.\n"
   ]
  },
  {
   "cell_type": "code",
   "execution_count": 101,
   "metadata": {},
   "outputs": [
    {
     "name": "stdout",
     "output_type": "stream",
     "text": [
      "7\n"
     ]
    }
   ],
   "source": [
    "''' \n",
    "Higher-Order Functions in Python:\n",
    "A higher-order function is a function that can do at least one of the following:\n",
    "Take one or more functions as arguments.\n",
    "Return a function as a result.\n",
    "\n",
    "Higher-order functions are a key concept in functional programming, enabling functions to be more flexible and powerful. They allow functions to \n",
    "operate on other functions, abstracting out common patterns and behaviors.\n",
    "\n",
    "Examples of Higher-Order Functions\n",
    "Python has several built-in higher-order functions, such as map, filter, and reduce.\n",
    "\n",
    "map: Applies a given function to all items in an iterable and returns a map object (which can be converted to a list, tuple, etc.).\n",
    "filter: Constructs an iterator from elements of an iterable for which a function returns true.\n",
    "reduce: Applies a rolling computation to sequential pairs of values in an iterable. (Note: reduce is part of the functools module in Python 3.)\n",
    "\n",
    "Example of a Higher-Order Function\n",
    "Here's an example of a custom higher-order function and the use of 'map' as a higher-order function.\n",
    "\n",
    "Custom Higher-Order Function\n",
    "'''\n",
    "def apply_function_twice(func, value):\n",
    "    \"\"\"\n",
    "    Applies a given function twice to a value.\n",
    "    \n",
    "    Parameters:\n",
    "    func (function): The function to apply.\n",
    "    value (any): The value to apply the function to.\n",
    "    \n",
    "    Returns:\n",
    "    any: The result of applying the function twice.\n",
    "    \"\"\"\n",
    "    return func(func(value))\n",
    "\n",
    "# Example usage\n",
    "def increment(x):\n",
    "    return x + 1\n",
    "\n",
    "result = apply_function_twice(increment, 5)\n",
    "print(result)  # Output: 7\n"
   ]
  },
  {
   "cell_type": "markdown",
   "metadata": {},
   "source": [
    "4. Create a Python function that takes a list of numbers and a function as arguments, applying the function to each element in the list.\n"
   ]
  },
  {
   "cell_type": "code",
   "execution_count": 102,
   "metadata": {},
   "outputs": [
    {
     "name": "stdout",
     "output_type": "stream",
     "text": [
      "[1, 4, 9, 16, 25]\n"
     ]
    }
   ],
   "source": [
    "def apply_function_to_list(numbers, func):\n",
    "    \"\"\"\n",
    "    Apply a given function to each element in a list of numbers.\n",
    "\n",
    "    Parameters:\n",
    "    numbers (list): List of numbers.\n",
    "    func (function): Function to apply to each element.\n",
    "\n",
    "    Returns:\n",
    "    list: List containing the results of applying the function to each element.\n",
    "    \"\"\"\n",
    "    return [func(num) for num in numbers]\n",
    "\n",
    "# Example usage\n",
    "def square(x):\n",
    "    return x * x\n",
    "\n",
    "numbers = [1, 2, 3, 4, 5]\n",
    "result = apply_function_to_list(numbers, square)\n",
    "print(result)  # Output: [1, 4, 9, 16, 25]"
   ]
  },
  {
   "cell_type": "markdown",
   "metadata": {},
   "source": [
    "Built-in Functions:\n"
   ]
  },
  {
   "cell_type": "markdown",
   "metadata": {},
   "source": [
    "1. Describe the role of built-in functions like `len()`, `max()`, and `min()` in Python."
   ]
  },
  {
   "cell_type": "code",
   "execution_count": null,
   "metadata": {},
   "outputs": [],
   "source": [
    "''' \n",
    "Built-in functions like len(), max(), and min() are essential tools in Python for performing common operations on data structures such as lists, \n",
    "tuples, sets, and strings.\n",
    "\n",
    "len() Function:\n",
    "The len() function returns the length (the number of items) of an object.\n",
    "It can be used with sequences (such as lists, tuples, strings, etc.) and collections (such as dictionaries and sets).\n",
    "my_list = [1, 2, 3, 4, 5]\n",
    "print(len(my_list))  # Output: 5\n",
    "\n",
    "\n",
    "max() Function:\n",
    "The max() function returns the largest item in an iterable or the largest of two or more arguments.\n",
    "It can be used with sequences and collections containing comparable elements.\n",
    "my_tuple = (10, 5, 20, 15)\n",
    "print(max(my_tuple))  # Output: 20\n",
    "\n",
    "\n",
    "min() Function:\n",
    "The min() function returns the smallest item in an iterable or the smallest of two or more arguments.\n",
    "It can be used with sequences and collections containing comparable elements.\n",
    "my_set = {30, 10, 50, 20}\n",
    "print(min(my_set))  # Output: 10\n",
    "\n",
    "'''"
   ]
  },
  {
   "cell_type": "markdown",
   "metadata": {},
   "source": [
    "2. Write a Python program that uses the `map()` function to apply a function to each element of a list."
   ]
  },
  {
   "cell_type": "code",
   "execution_count": 103,
   "metadata": {},
   "outputs": [
    {
     "name": "stdout",
     "output_type": "stream",
     "text": [
      "[2, 4, 6, 8, 10]\n"
     ]
    }
   ],
   "source": [
    "# Define a function to double a number\n",
    "def double(x):\n",
    "    return x * 2\n",
    "\n",
    "# Define a list of numbers\n",
    "numbers = [1, 2, 3, 4, 5]\n",
    "\n",
    "# Use map() to apply the double function to each element of the list\n",
    "doubled_numbers = map(double, numbers)\n",
    "\n",
    "# Convert the map object to a list and print it\n",
    "print(list(doubled_numbers))  # Output: [2, 4, 6, 8, 10]\n"
   ]
  },
  {
   "cell_type": "markdown",
   "metadata": {},
   "source": [
    "3. How does the `filter()` function work in Python, and when would you use it?"
   ]
  },
  {
   "cell_type": "code",
   "execution_count": null,
   "metadata": {},
   "outputs": [],
   "source": [
    "''' The filter() function in Python is used to filter elements from an iterable (such as a list, tuple, or set) based on a function that returns\n",
    "a boolean value (True or False). It constructs an iterator from those elements of the iterable for which the function returns True.\n",
    " \n",
    "Syntax:\n",
    "filter(function, iterable)\n",
    "\n",
    "How filter() Works:\n",
    "The filter() function applies the specified function to each element of the iterable.\n",
    "For each element, if the function returns True, the element is included in the output; if it returns False, the element is excluded.\n",
    "The result is an iterator containing only those elements for which the function returns True.\n",
    "\n",
    "When to Use filter():\n",
    "You would typically use the filter() function in situations where you need to selectively include or exclude elements from an iterable based on \n",
    "a specific condition. Some common use cases include:\n",
    "\n",
    "Filtering a list of elements based on certain criteria (e.g., filtering out invalid data, selecting specific items based on a property).\n",
    "Cleaning and processing data by removing unwanted or irrelevant elements.\n",
    "Working with collections of data where certain elements need to be excluded based on specific conditions.\n",
    "'''"
   ]
  },
  {
   "cell_type": "markdown",
   "metadata": {},
   "source": [
    "4. Create a Python program that uses the `reduce()` function to find the product of all elements in a list.\n"
   ]
  },
  {
   "cell_type": "code",
   "execution_count": 104,
   "metadata": {},
   "outputs": [
    {
     "name": "stdout",
     "output_type": "stream",
     "text": [
      "Product of all elements in the list: 120\n"
     ]
    }
   ],
   "source": [
    "from functools import reduce\n",
    "\n",
    "# Define a function to multiply two numbers\n",
    "def multiply(x, y):\n",
    "    return x * y\n",
    "\n",
    "# Define a list of numbers\n",
    "numbers = [1, 2, 3, 4, 5]\n",
    "\n",
    "# Use reduce() to find the product of all elements in the list\n",
    "product = reduce(multiply, numbers)\n",
    "\n",
    "# Print the result\n",
    "print(\"Product of all elements in the list:\", product)  # Output: Product of all elements in the list: 120\n"
   ]
  },
  {
   "cell_type": "markdown",
   "metadata": {},
   "source": [
    "Function Documentation and Best Practices:\n"
   ]
  },
  {
   "cell_type": "markdown",
   "metadata": {},
   "source": [
    "1. Explain the purpose of docstrings in Python functions and how to write them.\n"
   ]
  },
  {
   "cell_type": "code",
   "execution_count": 105,
   "metadata": {},
   "outputs": [],
   "source": [
    "''' Docstrings in Python functions serve the purpose of documenting the functionality, usage, and parameters of the function. They are enclosed \n",
    "in triple quotes (\"\"\" \"\"\") and appear as the first statement in a function definition. Docstrings can span multiple lines and provide valuable \n",
    "information for users of the function, including other developers who may need to understand or use the function.\n",
    "\n",
    "Purpose of Docstrings:\n",
    "Documentation: Docstrings provide documentation about what the function does, its purpose, and how to use it.\n",
    "Clarity and Readability: They improve code readability by providing clear and concise explanations of the function's behavior.\n",
    "Accessibility: Docstrings can be accessed programmatically using the __doc__ attribute of the function, making it easy to retrieve documentation \n",
    "from within the code.\n",
    "\n",
    "How to Write Docstrings:\n",
    "Here's how you can write docstrings for Python functions:\n",
    "'''\n",
    "\n",
    "def my_function(param1, param2):\n",
    "    \"\"\"\n",
    "    This is a docstring for my_function.\n",
    "\n",
    "    Parameters:\n",
    "    param1 (type): Description of param1.\n",
    "    param2 (type): Description of param2.\n",
    "\n",
    "    Returns:\n",
    "    return_type: Description of the return value.\n",
    "    \"\"\"\n",
    "    # Function implementation goes here\n",
    "    pass\n"
   ]
  },
  {
   "cell_type": "code",
   "execution_count": 106,
   "metadata": {},
   "outputs": [
    {
     "data": {
      "text/plain": [
       "<function __main__.my_function(param1, param2)>"
      ]
     },
     "execution_count": 106,
     "metadata": {},
     "output_type": "execute_result"
    }
   ],
   "source": [
    "my_function"
   ]
  },
  {
   "cell_type": "markdown",
   "metadata": {},
   "source": [
    "2. Describe some best practices for naming functions and variables in Python, including naming conventions and guidelines."
   ]
  },
  {
   "cell_type": "code",
   "execution_count": null,
   "metadata": {},
   "outputs": [],
   "source": [
    "''' Naming functions and variables in Python follows certain conventions and best practices to ensure code readability, maintainability, and \n",
    "consistency. Here are some best practices and guidelines for naming functions and variables in Python:\n",
    "\n",
    "1. Use Descriptive Names:\n",
    "Choose names that accurately describe the purpose or functionality of the function or variable.\n",
    "Use meaningful and descriptive names that convey the intent of the code.\n",
    "\n",
    "2. Follow Naming Conventions:\n",
    "snake_case: Use lowercase letters with underscores to separate words in function names and variable names. For example: calculate_sum, \n",
    "my_variable.\n",
    "CamelCase: Use capitalization to denote word boundaries, with the first letter lowercase for variable names and the first letter uppercase for \n",
    "class names. For example: calculateSum, MyVariable.\n",
    "\n",
    "3. Be Consistent:\n",
    "Maintain consistency in naming throughout your codebase to improve readability and comprehension.\n",
    "Follow the conventions and naming style used in the existing codebase or project.\n",
    "\n",
    "4. Use Verb-Noun Naming Pattern for Functions:\n",
    "Name functions using a verb-noun pattern to indicate what action the function performs. For example: calculate_sum, generate_report.\n",
    "\n",
    "5. Avoid Ambiguous Names:\n",
    "Avoid using single-letter variable names or abbreviations that are not clear or meaningful.\n",
    "Choose descriptive names that make the purpose of the variable or function evident.\n",
    "\n",
    "6. Use Singular for Single Items and Plural for Collections:\n",
    "Use singular nouns for variable names representing single items and plural nouns for variable names representing collections or sequences.\n",
    "For example, use user for a single user object and users for a collection of user objects.\n",
    "\n",
    "7. Use Constants with Uppercase Letters:\n",
    "Use uppercase letters with underscores to denote constants, such as global constants or configuration settings. For example: MAX_VALUE, \n",
    "CONFIG_FILE.\n",
    "\n",
    "8. Avoid Reserved Keywords:\n",
    "Avoid using reserved keywords or built-in function names as variable or function names to prevent conflicts and confusion.\n",
    "9. Use Meaningful Prefixes or Suffixes:\n",
    "Use prefixes or suffixes to indicate the type or purpose of variables or functions. For example: is_ prefix for boolean variables, \n",
    "calculate_ prefix for functions that perform calculations.\n",
    "\n",
    "10. Document Your Code:\n",
    "Provide descriptive docstrings for functions and comments for complex or non-obvious code sections to explain their purpose, usage, \n",
    "and behavior.\n",
    "\n",
    "Example:\n",
    "'''\n",
    "# Function name follows snake_case convention and verb-noun pattern\n",
    "def calculate_sum(numbers):\n",
    "    \"\"\"\n",
    "    Calculate the sum of numbers in a list.\n",
    "    \n",
    "    Parameters:\n",
    "    numbers (list): A list of numbers.\n",
    "    \n",
    "    Returns:\n",
    "    int: The sum of the numbers.\n",
    "    \"\"\"\n",
    "    return sum(numbers)\n",
    "\n",
    "# Variable name follows snake_case convention and is descriptive\n",
    "total_sum = calculate_sum([1, 2, 3, 4, 5])\n"
   ]
  },
  {
   "cell_type": "markdown",
   "metadata": {},
   "source": []
  }
 ],
 "metadata": {
  "kernelspec": {
   "display_name": "Python 3",
   "language": "python",
   "name": "python3"
  },
  "language_info": {
   "codemirror_mode": {
    "name": "ipython",
    "version": 3
   },
   "file_extension": ".py",
   "mimetype": "text/x-python",
   "name": "python",
   "nbconvert_exporter": "python",
   "pygments_lexer": "ipython3",
   "version": "3.11.4"
  }
 },
 "nbformat": 4,
 "nbformat_minor": 2
}
